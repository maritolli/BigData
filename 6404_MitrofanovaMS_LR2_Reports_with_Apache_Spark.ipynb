{
  "nbformat": 4,
  "nbformat_minor": 0,
  "metadata": {
    "colab": {
      "provenance": []
    },
    "kernelspec": {
      "name": "python3",
      "display_name": "Python 3"
    },
    "language_info": {
      "name": "python"
    }
  },
  "cells": [
    {
      "cell_type": "code",
      "execution_count": 2,
      "metadata": {
        "id": "FzCzMWgGlwrQ"
      },
      "outputs": [],
      "source": [
        "!apt-get install openjdk-8-jdk-headless -qq > /dev/null\n",
        "!wget -q http://archive.apache.org/dist/spark/spark-3.5.1/spark-3.5.1-bin-hadoop3.tgz\n",
        "!tar xf spark-3.5.1-bin-hadoop3.tgz\n",
        "!pip install -q findspark"
      ]
    },
    {
      "cell_type": "code",
      "source": [
        "import os\n",
        "os.environ[\"JAVA_HOME\"] = \"/usr/lib/jvm/java-8-openjdk-amd64\"\n",
        "os.environ[\"SPARK_HOME\"] = \"/content/spark-3.5.1-bin-hadoop3\""
      ],
      "metadata": {
        "id": "IzX4yIyhLa0D"
      },
      "execution_count": 21,
      "outputs": []
    },
    {
      "cell_type": "code",
      "source": [
        "import findspark\n",
        "findspark.init()"
      ],
      "metadata": {
        "id": "GbsWEGM3P4iP"
      },
      "execution_count": 22,
      "outputs": []
    },
    {
      "cell_type": "code",
      "source": [
        "from pyspark.sql import SparkSession, functions as F, Window\n",
        "from pyspark.sql.types import ArrayType, StringType\n",
        "import re"
      ],
      "metadata": {
        "id": "ph3GQhq-PknB"
      },
      "execution_count": 23,
      "outputs": []
    },
    {
      "cell_type": "code",
      "source": [
        "spark = SparkSession.builder\\\n",
        "        .master(\"local[*]\")\\\n",
        "        .appName(\"L2_BD_Spark\")\\\n",
        "        .config(\"spark.jars.packages\", \"com.databricks:spark-xml_2.12:0.14.0\")\\\n",
        "        .getOrCreate()"
      ],
      "metadata": {
        "id": "SSTom9_lPtK3"
      },
      "execution_count": 24,
      "outputs": []
    },
    {
      "cell_type": "code",
      "source": [
        "spark.version"
      ],
      "metadata": {
        "colab": {
          "base_uri": "https://localhost:8080/",
          "height": 35
        },
        "id": "YxTr6S3_QGVY",
        "outputId": "a7b9a4ad-e12e-497e-bbde-7dde6f3d7eb9"
      },
      "execution_count": 25,
      "outputs": [
        {
          "output_type": "execute_result",
          "data": {
            "text/plain": [
              "'3.5.1'"
            ],
            "application/vnd.google.colaboratory.intrinsic+json": {
              "type": "string"
            }
          },
          "metadata": {},
          "execution_count": 25
        }
      ]
    },
    {
      "cell_type": "markdown",
      "source": [
        "#Задание\n",
        "\n",
        "Сформировать отчёт с информацией о 10 наиболее популярных языках программирования по итогам года за период с 2010 по 2020 годы. Отчёт будет отражать динамику изменения популярности языков программирования и представлять собой набор таблиц \"топ-10\" для каждого года.\n",
        "\n",
        "Получившийся отчёт сохранить в формате Apache Parquet."
      ],
      "metadata": {
        "id": "ttgtQxI0QWig"
      }
    },
    {
      "cell_type": "markdown",
      "source": [
        "**Загрузка данных**"
      ],
      "metadata": {
        "id": "hvknZ_8BQUrw"
      }
    },
    {
      "cell_type": "code",
      "source": [
        "posts_path = '/content/posts_sample.xml'\n",
        "prog_lang_path = '/content/programming-languages.csv'"
      ],
      "metadata": {
        "id": "KalaWv-mQIgq"
      },
      "execution_count": 26,
      "outputs": []
    },
    {
      "cell_type": "code",
      "source": [
        "posts_data = spark.read\\\n",
        ".format('xml')\\\n",
        ".options(rowTag='row')\\\n",
        ".load(posts_path)\n",
        "\n",
        "print(\"Data\")\n",
        "posts_data.printSchema()"
      ],
      "metadata": {
        "colab": {
          "base_uri": "https://localhost:8080/"
        },
        "id": "lTqaRzs8SCwC",
        "outputId": "11121cfa-8231-4479-dcfa-aa29fd1e560c"
      },
      "execution_count": 27,
      "outputs": [
        {
          "output_type": "stream",
          "name": "stdout",
          "text": [
            "Data\n",
            "root\n",
            " |-- _AcceptedAnswerId: long (nullable = true)\n",
            " |-- _AnswerCount: long (nullable = true)\n",
            " |-- _Body: string (nullable = true)\n",
            " |-- _ClosedDate: timestamp (nullable = true)\n",
            " |-- _CommentCount: long (nullable = true)\n",
            " |-- _CommunityOwnedDate: timestamp (nullable = true)\n",
            " |-- _CreationDate: timestamp (nullable = true)\n",
            " |-- _FavoriteCount: long (nullable = true)\n",
            " |-- _Id: long (nullable = true)\n",
            " |-- _LastActivityDate: timestamp (nullable = true)\n",
            " |-- _LastEditDate: timestamp (nullable = true)\n",
            " |-- _LastEditorDisplayName: string (nullable = true)\n",
            " |-- _LastEditorUserId: long (nullable = true)\n",
            " |-- _OwnerDisplayName: string (nullable = true)\n",
            " |-- _OwnerUserId: long (nullable = true)\n",
            " |-- _ParentId: long (nullable = true)\n",
            " |-- _PostTypeId: long (nullable = true)\n",
            " |-- _Score: long (nullable = true)\n",
            " |-- _Tags: string (nullable = true)\n",
            " |-- _Title: string (nullable = true)\n",
            " |-- _ViewCount: long (nullable = true)\n",
            "\n"
          ]
        }
      ]
    },
    {
      "cell_type": "code",
      "source": [
        "prog_lang_data = spark.read\\\n",
        ".option(\"header\", True)\\\n",
        ".option(\"inferSchema\", True)\\\n",
        ".option(\"timestampFormat\", 'M/d/y H:m')\\\n",
        ".csv(prog_lang_path)\n",
        "\n",
        "print(\"Programming languages\")\n",
        "prog_lang_data.printSchema()"
      ],
      "metadata": {
        "colab": {
          "base_uri": "https://localhost:8080/"
        },
        "id": "DU4twJ5OSB1L",
        "outputId": "1dd6c102-9551-4f22-d0f5-bc3034bea438"
      },
      "execution_count": 28,
      "outputs": [
        {
          "output_type": "stream",
          "name": "stdout",
          "text": [
            "Programming languages\n",
            "root\n",
            " |-- name: string (nullable = true)\n",
            " |-- wikipedia_url: string (nullable = true)\n",
            "\n"
          ]
        }
      ]
    },
    {
      "cell_type": "code",
      "source": [
        "# Подготовка списка языков программирования в нижнем регистре\n",
        "language_names = [row.name.lower() for row in prog_lang_data.select(F.lower(\"name\").alias(\"name\")).collect()]\n",
        "\n",
        "# Функция для извлечения языков программирования из тегов\n",
        "def extract_programming_languages(tag_string):\n",
        "    if not tag_string:\n",
        "        return []\n",
        "\n",
        "    # Ищем все теги между <>\n",
        "    found_tags = re.findall(r'<([^<>]*)>', tag_string)\n",
        "\n",
        "    # Оставляем только теги, которые есть в нашем списке языков\n",
        "    return [tag for tag in found_tags if tag in language_names]\n",
        "\n",
        "# Регистрация UDF функции\n",
        "extract_langs_udf = F.udf(extract_programming_languages, ArrayType(StringType()))\n",
        "\n",
        "# Обработка данных постов\n",
        "processed_posts = (\n",
        "    posts_data\n",
        "    # Извлекаем языки из тегов\n",
        "    .withColumn(\"languages\", extract_langs_udf(F.col(\"_Tags\")))\n",
        "    # Добавляем год из даты создания\n",
        "    .withColumn(\"post_year\", F.year(\"_CreationDate\"))\n",
        "    # Разбиваем массив языков на отдельные строки\n",
        "    .select(\n",
        "        \"post_year\",\n",
        "        F.explode(\"languages\").alias(\"language\"),\n",
        "        \"_ViewCount\"\n",
        "    )\n",
        "    # Фильтруем по нужному периоду\n",
        "    .filter(F.col(\"post_year\").between(2010, 2020))\n",
        ")\n",
        "\n",
        "# Агрегация данных по популярности (сумма просмотров)\n",
        "language_popularity = (\n",
        "    processed_posts\n",
        "    .groupBy(\"post_year\", \"language\")\n",
        "    .agg(F.sum(\"_ViewCount\").alias(\"total_views\"))\n",
        ")\n",
        "\n",
        "# Ранжирование языков по популярности внутри каждого года\n",
        "window_spec = Window.partitionBy('post_year').orderBy(F.desc('total_views'))\n",
        "top_10_languages = (\n",
        "    language_popularity\n",
        "    # Добавляем позицию в топе\n",
        "    .withColumn('position', F.row_number().over(window_spec))\n",
        "    # Оставляем только топ-10\n",
        "    .filter(F.col('position') <= 10)\n",
        ")\n",
        "\n",
        "# Сохранение результатов в Parquet\n",
        "(\n",
        "    top_10_languages\n",
        "    .coalesce(1)\n",
        "    .write\n",
        "    .mode('overwrite')\n",
        "    .format('parquet')\n",
        "    .save('top_10_languages_per_year.parquet')\n",
        ")\n",
        "\n",
        "# Вывод результатов\n",
        "saved_results = spark.read.parquet('top_10_languages_per_year.parquet')\n",
        "\n",
        "for year in range(2010, 2021):\n",
        "    print(f\"\\nТОП-10 языков программирования за {year} год\")\n",
        "    (\n",
        "        saved_results\n",
        "        .filter(F.col(\"post_year\") == year)\n",
        "        .select(\"language\", \"total_views\")   # Выводить будем не все, а только необходимое\n",
        "        .orderBy(F.desc(\"total_views\"))     # Сортируем по просмотрам\n",
        "        .show(truncate=False)\n",
        "    )"
      ],
      "metadata": {
        "colab": {
          "base_uri": "https://localhost:8080/"
        },
        "id": "eQnhTS6eS70-",
        "outputId": "dfdbdf91-40b6-4553-ea7d-5b0e26d57ff6"
      },
      "execution_count": 29,
      "outputs": [
        {
          "output_type": "stream",
          "name": "stdout",
          "text": [
            "\n",
            "ТОП-10 языков программирования за 2010 год\n",
            "+-----------+-----------+\n",
            "|language   |total_views|\n",
            "+-----------+-----------+\n",
            "|php        |1189629    |\n",
            "|java       |563211     |\n",
            "|javascript |316131     |\n",
            "|objective-c|97009      |\n",
            "|ruby       |76215      |\n",
            "|c          |66587      |\n",
            "|python     |60672      |\n",
            "|matlab     |51865      |\n",
            "|applescript|32305      |\n",
            "|delphi     |13065      |\n",
            "+-----------+-----------+\n",
            "\n",
            "\n",
            "ТОП-10 языков программирования за 2011 год\n",
            "+-----------+-----------+\n",
            "|language   |total_views|\n",
            "+-----------+-----------+\n",
            "|javascript |809078     |\n",
            "|java       |389834     |\n",
            "|php        |246770     |\n",
            "|c          |238277     |\n",
            "|objective-c|218934     |\n",
            "|python     |203180     |\n",
            "|bash       |60805      |\n",
            "|ruby       |39223      |\n",
            "|perl       |28502      |\n",
            "|matlab     |18816      |\n",
            "+-----------+-----------+\n",
            "\n",
            "\n",
            "ТОП-10 языков программирования за 2012 год\n",
            "+-----------+-----------+\n",
            "|language   |total_views|\n",
            "+-----------+-----------+\n",
            "|java       |661770     |\n",
            "|javascript |572750     |\n",
            "|php        |459506     |\n",
            "|python     |275337     |\n",
            "|ruby       |104610     |\n",
            "|objective-c|94438      |\n",
            "|c          |69276      |\n",
            "|r          |43917      |\n",
            "|xpath      |32981      |\n",
            "|scala      |24592      |\n",
            "+-----------+-----------+\n",
            "\n",
            "\n",
            "ТОП-10 языков программирования за 2013 год\n",
            "+-----------+-----------+\n",
            "|language   |total_views|\n",
            "+-----------+-----------+\n",
            "|java       |1036852    |\n",
            "|javascript |609571     |\n",
            "|php        |471986     |\n",
            "|objective-c|401254     |\n",
            "|python     |163898     |\n",
            "|powershell |154758     |\n",
            "|bash       |73169      |\n",
            "|chef       |62421      |\n",
            "|ruby       |57407      |\n",
            "|io         |44228      |\n",
            "+-----------+-----------+\n",
            "\n",
            "\n",
            "ТОП-10 языков программирования за 2014 год\n",
            "+-----------+-----------+\n",
            "|language   |total_views|\n",
            "+-----------+-----------+\n",
            "|javascript |505893     |\n",
            "|java       |434130     |\n",
            "|python     |241959     |\n",
            "|php        |238579     |\n",
            "|c          |87281      |\n",
            "|objective-c|57110      |\n",
            "|r          |50113      |\n",
            "|scala      |40786      |\n",
            "|delphi     |23684      |\n",
            "|ruby       |21631      |\n",
            "+-----------+-----------+\n",
            "\n",
            "\n",
            "ТОП-10 языков программирования за 2015 год\n",
            "+----------+-----------+\n",
            "|language  |total_views|\n",
            "+----------+-----------+\n",
            "|javascript|342097     |\n",
            "|python    |280129     |\n",
            "|java      |270303     |\n",
            "|php       |155899     |\n",
            "|r         |60437      |\n",
            "|abap      |30613      |\n",
            "|scala     |29803      |\n",
            "|bash      |25543      |\n",
            "|c         |20084      |\n",
            "|go        |11625      |\n",
            "+----------+-----------+\n",
            "\n",
            "\n",
            "ТОП-10 языков программирования за 2016 год\n",
            "+----------+-----------+\n",
            "|language  |total_views|\n",
            "+----------+-----------+\n",
            "|javascript|233802     |\n",
            "|python    |219510     |\n",
            "|java      |169513     |\n",
            "|php       |105849     |\n",
            "|r         |49717      |\n",
            "|powershell|36175      |\n",
            "|typescript|33343      |\n",
            "|c         |17568      |\n",
            "|go        |13062      |\n",
            "|ruby      |12909      |\n",
            "+----------+-----------+\n",
            "\n",
            "\n",
            "ТОП-10 языков программирования за 2017 год\n",
            "+-----------+-----------+\n",
            "|language   |total_views|\n",
            "+-----------+-----------+\n",
            "|java       |149826     |\n",
            "|javascript |146638     |\n",
            "|python     |128190     |\n",
            "|php        |61882      |\n",
            "|typescript |29031      |\n",
            "|kotlin     |25082      |\n",
            "|r          |24690      |\n",
            "|scala      |8856       |\n",
            "|c          |6180       |\n",
            "|objective-c|5795       |\n",
            "+-----------+-----------+\n",
            "\n",
            "\n",
            "ТОП-10 языков программирования за 2018 год\n",
            "+----------+-----------+\n",
            "|language  |total_views|\n",
            "+----------+-----------+\n",
            "|python    |99996      |\n",
            "|javascript|64133      |\n",
            "|java      |40309      |\n",
            "|php       |34978      |\n",
            "|typescript|33139      |\n",
            "|kotlin    |13225      |\n",
            "|r         |11420      |\n",
            "|powershell|7300       |\n",
            "|dart      |6445       |\n",
            "|scala     |4531       |\n",
            "+----------+-----------+\n",
            "\n",
            "\n",
            "ТОП-10 языков программирования за 2019 год\n",
            "+----------+-----------+\n",
            "|language  |total_views|\n",
            "+----------+-----------+\n",
            "|python    |18857      |\n",
            "|javascript|13434      |\n",
            "|java      |5942       |\n",
            "|php       |3753       |\n",
            "|dart      |2205       |\n",
            "|typescript|1577       |\n",
            "|r         |1520       |\n",
            "|delphi    |1173       |\n",
            "|c         |1111       |\n",
            "|bash      |722        |\n",
            "+----------+-----------+\n",
            "\n",
            "\n",
            "ТОП-10 языков программирования за 2020 год\n",
            "+--------+-----------+\n",
            "|language|total_views|\n",
            "+--------+-----------+\n",
            "+--------+-----------+\n",
            "\n"
          ]
        }
      ]
    }
  ]
}