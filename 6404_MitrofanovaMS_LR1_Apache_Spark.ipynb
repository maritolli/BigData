{
  "nbformat": 4,
  "nbformat_minor": 0,
  "metadata": {
    "colab": {
      "provenance": []
    },
    "kernelspec": {
      "name": "python3",
      "display_name": "Python 3"
    },
    "language_info": {
      "name": "python"
    }
  },
  "cells": [
    {
      "cell_type": "code",
      "source": [
        "!apt-get install openjdk-8-jdk-headless -qq > /dev/null\n",
        "!wget -q http://archive.apache.org/dist/spark/spark-3.5.1/spark-3.5.1-bin-hadoop3.tgz\n",
        "!tar xf spark-3.5.1-bin-hadoop3.tgz\n",
        "!pip install -q findspark"
      ],
      "metadata": {
        "id": "BiMFsZSKvY4a"
      },
      "execution_count": 1,
      "outputs": []
    },
    {
      "cell_type": "code",
      "source": [
        "import os\n",
        "os.environ[\"JAVA_HOME\"] = \"/usr/lib/jvm/java-8-openjdk-amd64\"\n",
        "os.environ[\"SPARK_HOME\"] = \"/content/spark-3.5.1-bin-hadoop3\""
      ],
      "metadata": {
        "id": "noGduOrsvsw8"
      },
      "execution_count": 2,
      "outputs": []
    },
    {
      "cell_type": "code",
      "source": [
        "import findspark\n",
        "findspark.init()"
      ],
      "metadata": {
        "id": "MI9Y9FFtv090"
      },
      "execution_count": 46,
      "outputs": []
    },
    {
      "cell_type": "code",
      "source": [
        "from pyspark import SparkContext, SparkConf\n",
        "from pyspark.sql import SparkSession\n",
        "import pyspark.sql as sql\n",
        "from pyspark.sql.types import DoubleType\n",
        "from pyspark.sql.functions import udf, col, max, sum, countDistinct, desc"
      ],
      "metadata": {
        "id": "J-R-kWMHwGnT"
      },
      "execution_count": 47,
      "outputs": []
    },
    {
      "cell_type": "markdown",
      "source": [
        "Инициализация сессии"
      ],
      "metadata": {
        "id": "yuctyhicwRJs"
      }
    },
    {
      "cell_type": "code",
      "source": [
        "spark = SparkSession \\\n",
        "    .builder \\\n",
        "    .appName(\"L1_BD_Spark\") \\\n",
        "    .getOrCreate()"
      ],
      "metadata": {
        "id": "0A-JlcxLwTcw"
      },
      "execution_count": 48,
      "outputs": []
    },
    {
      "cell_type": "code",
      "source": [
        "spark.version"
      ],
      "metadata": {
        "colab": {
          "base_uri": "https://localhost:8080/",
          "height": 35
        },
        "id": "_SbLnZoDwXcP",
        "outputId": "c1cc6938-11d1-495b-df56-16f190f3f7c0"
      },
      "execution_count": 49,
      "outputs": [
        {
          "output_type": "execute_result",
          "data": {
            "text/plain": [
              "'3.5.1'"
            ],
            "application/vnd.google.colaboratory.intrinsic+json": {
              "type": "string"
            }
          },
          "metadata": {},
          "execution_count": 49
        }
      ]
    },
    {
      "cell_type": "markdown",
      "source": [
        "Загрузка данных"
      ],
      "metadata": {
        "id": "9ojXjbT0wuzE"
      }
    },
    {
      "cell_type": "code",
      "source": [
        "tripData = spark.read\\\n",
        ".option(\"header\", True)\\\n",
        ".option(\"inferSchema\", True)\\\n",
        ".option(\"timestampFormat\", 'M/d/y')\\\n",
        ".csv(\"trips.csv\")\n",
        "\n",
        "tripData.printSchema()"
      ],
      "metadata": {
        "colab": {
          "base_uri": "https://localhost:8080/"
        },
        "id": "awC01oAQxdnr",
        "outputId": "b382c364-0d1b-4060-9003-493723d19704"
      },
      "execution_count": 50,
      "outputs": [
        {
          "output_type": "stream",
          "name": "stdout",
          "text": [
            "root\n",
            " |-- id: integer (nullable = true)\n",
            " |-- duration: integer (nullable = true)\n",
            " |-- start_date: string (nullable = true)\n",
            " |-- start_station_name: string (nullable = true)\n",
            " |-- start_station_id: integer (nullable = true)\n",
            " |-- end_date: string (nullable = true)\n",
            " |-- end_station_name: string (nullable = true)\n",
            " |-- end_station_id: integer (nullable = true)\n",
            " |-- bike_id: integer (nullable = true)\n",
            " |-- subscription_type: string (nullable = true)\n",
            " |-- zip_code: string (nullable = true)\n",
            "\n"
          ]
        }
      ]
    },
    {
      "cell_type": "code",
      "source": [
        "tripData.show(n=5)"
      ],
      "metadata": {
        "colab": {
          "base_uri": "https://localhost:8080/"
        },
        "id": "5dfYmPbN0Fst",
        "outputId": "06d349e2-9ffb-4fd6-a162-d6a9b6b1297a"
      },
      "execution_count": 51,
      "outputs": [
        {
          "output_type": "stream",
          "name": "stdout",
          "text": [
            "+----+--------+---------------+--------------------+----------------+---------------+--------------------+--------------+-------+-----------------+--------+\n",
            "|  id|duration|     start_date|  start_station_name|start_station_id|       end_date|    end_station_name|end_station_id|bike_id|subscription_type|zip_code|\n",
            "+----+--------+---------------+--------------------+----------------+---------------+--------------------+--------------+-------+-----------------+--------+\n",
            "|4576|      63|           NULL|South Van Ness at...|              66|8/29/2013 14:14|South Van Ness at...|            66|    520|       Subscriber|   94127|\n",
            "|4607|    NULL|8/29/2013 14:42|  San Jose City Hall|              10|8/29/2013 14:43|  San Jose City Hall|            10|    661|       Subscriber|   95138|\n",
            "|4130|      71|8/29/2013 10:16|Mountain View Cit...|              27|8/29/2013 10:17|Mountain View Cit...|            27|     48|       Subscriber|   97214|\n",
            "|4251|      77|8/29/2013 11:29|  San Jose City Hall|              10|8/29/2013 11:30|  San Jose City Hall|            10|     26|       Subscriber|   95060|\n",
            "|4299|      83|8/29/2013 12:02|South Van Ness at...|              66|8/29/2013 12:04|      Market at 10th|            67|    319|       Subscriber|   94103|\n",
            "+----+--------+---------------+--------------------+----------------+---------------+--------------------+--------------+-------+-----------------+--------+\n",
            "only showing top 5 rows\n",
            "\n"
          ]
        }
      ]
    },
    {
      "cell_type": "code",
      "source": [
        "stationData = spark.read\\\n",
        ".option(\"header\", True)\\\n",
        ".option(\"inferSchema\", True)\\\n",
        ".option(\"timestampFormat\", 'M/d/y')\\\n",
        ".csv(\"stations.csv\")\n",
        "\n",
        "stationData.printSchema()"
      ],
      "metadata": {
        "colab": {
          "base_uri": "https://localhost:8080/"
        },
        "id": "o8GIIP7p0Obh",
        "outputId": "46ad4844-4b99-425c-a63e-a9aa372a4132"
      },
      "execution_count": 52,
      "outputs": [
        {
          "output_type": "stream",
          "name": "stdout",
          "text": [
            "root\n",
            " |-- id: integer (nullable = true)\n",
            " |-- name: string (nullable = true)\n",
            " |-- lat: double (nullable = true)\n",
            " |-- long: double (nullable = true)\n",
            " |-- dock_count: integer (nullable = true)\n",
            " |-- city: string (nullable = true)\n",
            " |-- installation_date: timestamp (nullable = true)\n",
            "\n"
          ]
        }
      ]
    },
    {
      "cell_type": "code",
      "source": [
        "stationData.show(n=5)"
      ],
      "metadata": {
        "colab": {
          "base_uri": "https://localhost:8080/"
        },
        "id": "6oi9F8qP0XbL",
        "outputId": "4266d7c0-168b-4345-dca5-1da67a188e24"
      },
      "execution_count": 53,
      "outputs": [
        {
          "output_type": "stream",
          "name": "stdout",
          "text": [
            "+---+--------------------+------------------+-------------------+----------+--------+-------------------+\n",
            "| id|                name|               lat|               long|dock_count|    city|  installation_date|\n",
            "+---+--------------------+------------------+-------------------+----------+--------+-------------------+\n",
            "|  2|San Jose Diridon ...|         37.329732|-121.90178200000001|        27|San Jose|2013-08-06 00:00:00|\n",
            "|  3|San Jose Civic Ce...|         37.330698|        -121.888979|        15|San Jose|2013-08-05 00:00:00|\n",
            "|  4|Santa Clara at Al...|         37.333988|        -121.894902|        11|San Jose|2013-08-06 00:00:00|\n",
            "|  5|    Adobe on Almaden|         37.331415|          -121.8932|        19|San Jose|2013-08-05 00:00:00|\n",
            "|  6|    San Pedro Square|37.336721000000004|        -121.894074|        15|San Jose|2013-08-07 00:00:00|\n",
            "+---+--------------------+------------------+-------------------+----------+--------+-------------------+\n",
            "only showing top 5 rows\n",
            "\n"
          ]
        }
      ]
    },
    {
      "cell_type": "markdown",
      "source": [
        "# Решите следующие задачи для данных велопарковок Сан-Франциско"
      ],
      "metadata": {
        "id": "fvqw0apMt7Aw"
      }
    },
    {
      "cell_type": "markdown",
      "source": [
        "## 1. Найти велосипед с максимальным временем пробега."
      ],
      "metadata": {
        "id": "3T2-7fpNua36"
      }
    },
    {
      "cell_type": "code",
      "source": [
        "# сгруппируем по bike_id, суммируем по времени пробега, сортируем по убыванию полученного пробега\n",
        "# берем 1 значение из полученного списка\n",
        "bike_max = tripData.groupBy(\"bike_id\").agg({\"duration\": \"sum\"}).sort(\"sum(duration)\", ascending=False).first()\n",
        "\n",
        "print(f\"Велосипед { bike_max['bike_id'] } имеет самое большое время пробега = {bike_max['sum(duration)']}\")\n"
      ],
      "metadata": {
        "colab": {
          "base_uri": "https://localhost:8080/"
        },
        "id": "dgljZc55u4jC",
        "outputId": "1e86aa40-241e-422a-d44b-c71784f67fde"
      },
      "execution_count": 54,
      "outputs": [
        {
          "output_type": "stream",
          "name": "stdout",
          "text": [
            "Велосипед 535 имеет самое большое время пробега = 18611693\n"
          ]
        }
      ]
    },
    {
      "cell_type": "markdown",
      "source": [
        "## 2. Найти наибольшее геодезическое расстояние между станциями."
      ],
      "metadata": {
        "id": "beeEzJlZud_H"
      }
    },
    {
      "cell_type": "code",
      "source": [
        "!pip install haversine"
      ],
      "metadata": {
        "colab": {
          "base_uri": "https://localhost:8080/"
        },
        "id": "XThjodUdFaoL",
        "outputId": "4f252951-7e1f-4a6c-c433-c9c92fb09344"
      },
      "execution_count": 55,
      "outputs": [
        {
          "output_type": "stream",
          "name": "stdout",
          "text": [
            "Requirement already satisfied: haversine in /usr/local/lib/python3.11/dist-packages (2.9.0)\n"
          ]
        }
      ]
    },
    {
      "cell_type": "code",
      "source": [
        "# для вычисления расстояния воспользуемся формулой гаверсинуса (Википедия)\n",
        "from haversine import haversine\n",
        "\n",
        "# используем user-defined function и найдем расстояние между 2 точками\n",
        "distance_udf = udf(lambda lat1, lon1, lat2, lon2: haversine((lat1, lon1), (lat2, lon2)), returnType=DoubleType())\n",
        "\n",
        "# объединим самого с собой для получения всех пар точек\n",
        "station_pairs = stationData.alias(\"station1\").crossJoin(stationData.alias(\"station2\"))\n",
        "\n",
        "# вычисление расстояния для каждой пары станций с помощью distance_udf (внутри нее ф-ла гаверсинуса)\n",
        "station_pairs_dist = station_pairs.withColumn(\n",
        "    \"geodesic_distance\",\n",
        "    distance_udf(\n",
        "        col(\"station1.lat\"),\n",
        "        col(\"station1.long\"),\n",
        "        col(\"station2.lat\"),\n",
        "        col(\"station2.long\")\n",
        "    )\n",
        ")\n",
        "\n",
        "# поиск максимального расстояния среди всех расстояний для каждой пары станций\n",
        "max_distance = station_pairs_dist.selectExpr(\"max(geodesic_distance) as max_distance\").collect()[0][\"max_distance\"]\n",
        "\n",
        "print(f\"Максимальное расстояние: {max_distance} км\")"
      ],
      "metadata": {
        "colab": {
          "base_uri": "https://localhost:8080/"
        },
        "id": "BhrnQtqfu4Hc",
        "outputId": "07e53f6a-08f3-4e88-bc18-c93565e983b7"
      },
      "execution_count": 56,
      "outputs": [
        {
          "output_type": "stream",
          "name": "stdout",
          "text": [
            "Максимальное расстояние: 69.92097253310907 км\n"
          ]
        }
      ]
    },
    {
      "cell_type": "markdown",
      "source": [
        "## 3. Найти путь велосипеда с максимальным временем пробега через станции."
      ],
      "metadata": {
        "id": "uMVLN8irulpD"
      }
    },
    {
      "cell_type": "code",
      "source": [
        "# сортируем по пробегу и выбираем первый из списка\n",
        "longest_trip = tripData.sort(\"duration\", ascending=False).first()\n",
        "\n",
        "print(f\"Максимальный путь из {longest_trip['start_station_name']} в {longest_trip['end_station_name']} \\\n",
        "проехал велосипед {longest_trip['bike_id']}. Дистанция = {longest_trip['duration']}\")"
      ],
      "metadata": {
        "id": "53MT8Hyfu308",
        "colab": {
          "base_uri": "https://localhost:8080/"
        },
        "outputId": "c6d3b1b5-13b3-4d5c-ab59-c26c877afd18"
      },
      "execution_count": 57,
      "outputs": [
        {
          "output_type": "stream",
          "name": "stdout",
          "text": [
            "Максимальный путь из South Van Ness at Market в 2nd at Folsom проехал велосипед 535. Дистанция = 17270400\n"
          ]
        }
      ]
    },
    {
      "cell_type": "markdown",
      "source": [
        "## 4. Найти количество велосипедов в системе."
      ],
      "metadata": {
        "id": "GMIhpM4_ul4I"
      }
    },
    {
      "cell_type": "code",
      "source": [
        "# считаем уникальные значения и выводим\n",
        "number_of_bikes = tripData.agg(countDistinct(\"bike_id\")).first()[0]\n",
        "print(f\"Всего велосипедов в системе - {number_of_bikes}\")"
      ],
      "metadata": {
        "id": "PHorcfdIu3Dg",
        "colab": {
          "base_uri": "https://localhost:8080/"
        },
        "outputId": "a83734b1-dec2-4a91-8d19-a752cec783bb"
      },
      "execution_count": 58,
      "outputs": [
        {
          "output_type": "stream",
          "name": "stdout",
          "text": [
            "Всего велосипедов в системе - 700\n"
          ]
        }
      ]
    },
    {
      "cell_type": "markdown",
      "source": [
        "## 5. Найти пользователей потративших на поездки более 3 часов."
      ],
      "metadata": {
        "id": "pRuBWyLDumPU"
      }
    },
    {
      "cell_type": "code",
      "source": [
        "# группируем по пользователям, вычисляем общее время поездок, применяем фильтр на больше 3х часов (10800 секунд)\n",
        "users_over_3h = (tripData\n",
        "    .groupBy(\"zip_code\")\n",
        "    .agg(sum(\"duration\").alias(\"total_time\"))\n",
        "    .filter(\"total_time > 3*60*60\")\n",
        "    )\n",
        "\n",
        "users_over_3h.show()"
      ],
      "metadata": {
        "id": "SLtFXviCu3gs",
        "colab": {
          "base_uri": "https://localhost:8080/"
        },
        "outputId": "09efd421-61a5-4015-f94c-582267728302"
      },
      "execution_count": 59,
      "outputs": [
        {
          "output_type": "stream",
          "name": "stdout",
          "text": [
            "+--------+----------+\n",
            "|zip_code|total_time|\n",
            "+--------+----------+\n",
            "|   94102|  19128021|\n",
            "|   95134|    728023|\n",
            "|   84606|     95145|\n",
            "|   80305|    180906|\n",
            "|   60070|     28919|\n",
            "|   95519|     30303|\n",
            "|   43085|     11670|\n",
            "|   91910|     50488|\n",
            "|   77339|     13713|\n",
            "|   48063|     13755|\n",
            "|   85022|     12682|\n",
            "|    1090|     20391|\n",
            "|    2136|     16010|\n",
            "|   11722|     24331|\n",
            "|   95138|    155295|\n",
            "|   94610|   3630628|\n",
            "|   94404|   3589350|\n",
            "|   80301|    152189|\n",
            "|   91326|     65885|\n",
            "|   90742|     10965|\n",
            "+--------+----------+\n",
            "only showing top 20 rows\n",
            "\n"
          ]
        }
      ]
    }
  ]
}