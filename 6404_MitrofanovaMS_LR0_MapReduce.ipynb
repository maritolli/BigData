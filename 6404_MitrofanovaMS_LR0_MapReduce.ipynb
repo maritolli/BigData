{
 "nbformat": 4,
 "nbformat_minor": 0,
 "metadata": {
  "colab": {
   "provenance": []
  },
  "kernelspec": {
   "name": "python3",
   "display_name": "Python 3 (ipykernel)",
   "language": "python"
  }
 },
 "cells": [
  {
   "cell_type": "markdown",
   "metadata": {
    "id": "82OvPKEiEqjc"
   },
   "source": [
    "# Введение в MapReduce модель на Python\n"
   ]
  },
  {
   "cell_type": "code",
   "metadata": {
    "id": "JQ2cvXLjICmI",
    "ExecuteTime": {
     "end_time": "2025-02-26T17:14:51.442239Z",
     "start_time": "2025-02-26T17:14:51.435178Z"
    }
   },
   "source": [
    "from typing import NamedTuple # requires python 3.6+\n",
    "from typing import Iterator"
   ],
   "outputs": [],
   "execution_count": 3
  },
  {
   "cell_type": "code",
   "metadata": {
    "id": "yjPHumVwEyEg",
    "ExecuteTime": {
     "end_time": "2025-02-26T17:14:51.520202Z",
     "start_time": "2025-02-26T17:14:51.508262Z"
    }
   },
   "source": [
    "def MAP(_, row:NamedTuple):\n",
    "  if (row.gender == 'female'):\n",
    "    yield (row.age, row)\n",
    "    \n",
    "def REDUCE(age:str, rows:Iterator[NamedTuple]):\n",
    "  sum = 0\n",
    "  count = 0\n",
    "  for row in rows:\n",
    "    sum += row.social_contacts\n",
    "    count += 1\n",
    "  if (count > 0):\n",
    "    yield (age, sum/count)\n",
    "  else:\n",
    "    yield (age, 0)"
   ],
   "outputs": [],
   "execution_count": 4
  },
  {
   "cell_type": "markdown",
   "metadata": {
    "id": "vBKMgpG_ilaZ"
   },
   "source": "Модель элемента данных"
  },
  {
   "cell_type": "code",
   "metadata": {
    "id": "Rv-XIjhTJPx3",
    "ExecuteTime": {
     "end_time": "2025-02-26T17:14:51.610416Z",
     "start_time": "2025-02-26T17:14:51.601219Z"
    }
   },
   "source": [
    "class User(NamedTuple):\n",
    "  id: int\n",
    "  age: str\n",
    "  social_contacts: int\n",
    "  gender: str"
   ],
   "outputs": [],
   "execution_count": 5
  },
  {
   "cell_type": "code",
   "metadata": {
    "id": "5KV0Ze2vQgu5",
    "ExecuteTime": {
     "end_time": "2025-02-26T17:14:51.682501Z",
     "start_time": "2025-02-26T17:14:51.670640Z"
    }
   },
   "source": [
    "input_collection = [\n",
    "    User(id=0, age=55, gender='male', social_contacts=20),\n",
    "    User(id=1, age=25, gender='female', social_contacts=240),\n",
    "    User(id=2, age=25, gender='female', social_contacts=500),\n",
    "    User(id=3, age=33, gender='female', social_contacts=800)\n",
    "]"
   ],
   "outputs": [],
   "execution_count": 6
  },
  {
   "cell_type": "code",
   "metadata": {
    "id": "S5HR4E_GQoMJ",
    "ExecuteTime": {
     "end_time": "2025-02-26T17:14:51.736375Z",
     "start_time": "2025-02-26T17:14:51.727519Z"
    }
   },
   "source": [
    "def RECORDREADER():\n",
    "  return [(u.id, u) for u in input_collection]"
   ],
   "outputs": [],
   "execution_count": 7
  },
  {
   "cell_type": "code",
   "metadata": {
    "id": "NeEoWla-ROUy",
    "colab": {
     "base_uri": "https://localhost:8080/",
     "height": 85
    },
    "outputId": "94ca6e0e-4644-4282-acbf-1759d7ba2918",
    "ExecuteTime": {
     "end_time": "2025-02-26T17:14:51.845906Z",
     "start_time": "2025-02-26T17:14:51.825437Z"
    }
   },
   "source": [
    "list(RECORDREADER())"
   ],
   "outputs": [
    {
     "data": {
      "text/plain": [
       "[(0, User(id=0, age=55, social_contacts=20, gender='male')),\n",
       " (1, User(id=1, age=25, social_contacts=240, gender='female')),\n",
       " (2, User(id=2, age=25, social_contacts=500, gender='female')),\n",
       " (3, User(id=3, age=33, social_contacts=800, gender='female'))]"
      ]
     },
     "execution_count": 8,
     "metadata": {},
     "output_type": "execute_result"
    }
   ],
   "execution_count": 8
  },
  {
   "cell_type": "code",
   "metadata": {
    "id": "YB8orgPSZs8M",
    "ExecuteTime": {
     "end_time": "2025-02-26T17:14:52.085092Z",
     "start_time": "2025-02-26T17:14:52.075809Z"
    }
   },
   "source": [
    "def flatten(nested_iterable):\n",
    "  for iterable in nested_iterable:\n",
    "    for element in iterable:\n",
    "      yield element"
   ],
   "outputs": [],
   "execution_count": 9
  },
  {
   "cell_type": "code",
   "metadata": {
    "id": "74oyvDLaRmd5",
    "colab": {
     "base_uri": "https://localhost:8080/",
     "height": 68
    },
    "outputId": "c6147702-7153-47c7-a574-d5fe6abe29a8",
    "ExecuteTime": {
     "end_time": "2025-02-26T17:14:52.175197Z",
     "start_time": "2025-02-26T17:14:52.162116Z"
    }
   },
   "source": [
    "map_output = flatten(map(lambda x: MAP(*x), RECORDREADER()))\n",
    "map_output = list(map_output) # materialize\n",
    "map_output"
   ],
   "outputs": [
    {
     "data": {
      "text/plain": [
       "[(25, User(id=1, age=25, social_contacts=240, gender='female')),\n",
       " (25, User(id=2, age=25, social_contacts=500, gender='female')),\n",
       " (33, User(id=3, age=33, social_contacts=800, gender='female'))]"
      ]
     },
     "execution_count": 10,
     "metadata": {},
     "output_type": "execute_result"
    }
   ],
   "execution_count": 10
  },
  {
   "cell_type": "code",
   "metadata": {
    "id": "8ncYDJ3-VzDn",
    "ExecuteTime": {
     "end_time": "2025-02-26T17:14:52.276011Z",
     "start_time": "2025-02-26T17:14:52.267145Z"
    }
   },
   "source": [
    "def groupbykey(iterable):\n",
    "  t = {}\n",
    "  for (k2, v2) in iterable:\n",
    "    t[k2] = t.get(k2, []) + [v2]\n",
    "  return t.items()"
   ],
   "outputs": [],
   "execution_count": 11
  },
  {
   "cell_type": "code",
   "metadata": {
    "id": "cKzY_6COWOA2",
    "colab": {
     "base_uri": "https://localhost:8080/",
     "height": 85
    },
    "outputId": "e6791b12-e409-47e9-bcd4-e9f8ca8611bd",
    "ExecuteTime": {
     "end_time": "2025-02-26T17:14:52.474913Z",
     "start_time": "2025-02-26T17:14:52.463490Z"
    }
   },
   "source": [
    "shuffle_output = groupbykey(map_output)\n",
    "shuffle_output = list(shuffle_output)\n",
    "shuffle_output"
   ],
   "outputs": [
    {
     "data": {
      "text/plain": [
       "[(25,\n",
       "  [User(id=1, age=25, social_contacts=240, gender='female'),\n",
       "   User(id=2, age=25, social_contacts=500, gender='female')]),\n",
       " (33, [User(id=3, age=33, social_contacts=800, gender='female')])]"
      ]
     },
     "execution_count": 12,
     "metadata": {},
     "output_type": "execute_result"
    }
   ],
   "execution_count": 12
  },
  {
   "cell_type": "code",
   "metadata": {
    "id": "NlA7lkDDYL0t",
    "colab": {
     "base_uri": "https://localhost:8080/",
     "height": 34
    },
    "outputId": "6b25d03f-5c92-4f3b-f500-6d70acd598b7",
    "ExecuteTime": {
     "end_time": "2025-02-26T17:14:52.605274Z",
     "start_time": "2025-02-26T17:14:52.594272Z"
    }
   },
   "source": [
    "reduce_output = flatten(map(lambda x: REDUCE(*x), shuffle_output))\n",
    "reduce_output = list(reduce_output)\n",
    "reduce_output"
   ],
   "outputs": [
    {
     "data": {
      "text/plain": [
       "[(25, 370.0), (33, 800.0)]"
      ]
     },
     "execution_count": 13,
     "metadata": {},
     "output_type": "execute_result"
    }
   ],
   "execution_count": 13
  },
  {
   "cell_type": "markdown",
   "metadata": {
    "id": "xf6qhHEtd6bI"
   },
   "source": [
    "Все действия одним конвейером!"
   ]
  },
  {
   "cell_type": "code",
   "metadata": {
    "id": "dZaQGYxCdpw5",
    "colab": {
     "base_uri": "https://localhost:8080/",
     "height": 34
    },
    "outputId": "3f5c6425-e5c5-49d2-b2cd-ce58a9acc33c",
    "ExecuteTime": {
     "end_time": "2025-02-26T17:14:52.818255Z",
     "start_time": "2025-02-26T17:14:52.804338Z"
    }
   },
   "source": [
    "list(flatten(map(lambda x: REDUCE(*x), groupbykey(flatten(map(lambda x: MAP(*x), RECORDREADER()))))))"
   ],
   "outputs": [
    {
     "data": {
      "text/plain": [
       "[(25, 370.0), (33, 800.0)]"
      ]
     },
     "execution_count": 14,
     "metadata": {},
     "output_type": "execute_result"
    }
   ],
   "execution_count": 14
  },
  {
   "cell_type": "markdown",
   "metadata": {
    "id": "Vq3EWRIpwSiJ"
   },
   "source": [
    "# **MapReduce**\n",
    "Выделим общую для всех пользователей часть системы в отдельную функцию высшего порядка. Это наиболее простая модель MapReduce, без учёта распределённого хранения данных. \n",
    "\n",
    "Пользователь для решения своей задачи реализует RECORDREADER, MAP, REDUCE."
   ]
  },
  {
   "cell_type": "code",
   "metadata": {
    "id": "V1PZeQMwwVjc",
    "ExecuteTime": {
     "end_time": "2025-02-26T17:14:53.118280Z",
     "start_time": "2025-02-26T17:14:53.104597Z"
    }
   },
   "source": [
    "def flatten(nested_iterable):\n",
    "  for iterable in nested_iterable:\n",
    "    for element in iterable:\n",
    "      yield element\n",
    "\n",
    "def groupbykey(iterable):\n",
    "  t = {}\n",
    "  for (k2, v2) in iterable:\n",
    "    t[k2] = t.get(k2, []) + [v2]\n",
    "  return t.items()\n",
    "\n",
    "def MapReduce(RECORDREADER, MAP, REDUCE):\n",
    "  return flatten(map(lambda x: REDUCE(*x), groupbykey(flatten(map(lambda x: MAP(*x), RECORDREADER())))))"
   ],
   "outputs": [],
   "execution_count": 15
  },
  {
   "cell_type": "markdown",
   "metadata": {
    "id": "iFIVrimep678"
   },
   "source": [
    "## Спецификация MapReduce\n",
    "\n",
    "\n",
    "\n",
    "```\n",
    "f (k1, v1) -> (k2,v2)*\n",
    "g (k2, v2*) -> (k3,v3)*\n",
    " \n",
    "mapreduce ((k1,v1)*) -> (k3,v3)*\n",
    "groupby ((k2,v2)*) -> (k2,v2*)*\n",
    "flatten (e2**) -> e2*\n",
    " \n",
    "mapreduce .map(f).flatten.groupby(k2).map(g).flatten\n",
    "```\n",
    "\n",
    "\n"
   ]
  },
  {
   "cell_type": "markdown",
   "metadata": {
    "id": "QtTFyqke3KGe"
   },
   "source": [
    "# Примеры"
   ]
  },
  {
   "cell_type": "markdown",
   "metadata": {
    "id": "BNhh5763w5Vn"
   },
   "source": [
    "## SQL "
   ]
  },
  {
   "cell_type": "code",
   "metadata": {
    "id": "QkyurnvGxBGk",
    "colab": {
     "base_uri": "https://localhost:8080/",
     "height": 34
    },
    "outputId": "84761282-d2ba-435a-e8d7-a85150730e10",
    "ExecuteTime": {
     "end_time": "2025-02-26T17:14:53.222027Z",
     "start_time": "2025-02-26T17:14:53.197436Z"
    }
   },
   "source": [
    "from typing import NamedTuple # requires python 3.6+\n",
    "from typing import Iterator\n",
    "\n",
    "class User(NamedTuple):\n",
    "  id: int\n",
    "  age: str\n",
    "  social_contacts: int\n",
    "  gender: str\n",
    "    \n",
    "input_collection = [\n",
    "    User(id=0, age=55, gender='male', social_contacts=20),\n",
    "    User(id=1, age=25, gender='female', social_contacts=240),\n",
    "    User(id=2, age=25, gender='female', social_contacts=500),\n",
    "    User(id=3, age=33, gender='female', social_contacts=800)\n",
    "]\n",
    "\n",
    "def MAP(_, row:NamedTuple):\n",
    "  if (row.gender == 'female'):\n",
    "    yield (row.age, row)\n",
    "    \n",
    "def REDUCE(age:str, rows:Iterator[NamedTuple]):\n",
    "  sum = 0\n",
    "  count = 0\n",
    "  for row in rows:\n",
    "    sum += row.social_contacts\n",
    "    count += 1\n",
    "  if (count > 0):\n",
    "    yield (age, sum/count)\n",
    "  else:\n",
    "    yield (age, 0)\n",
    " \n",
    "def RECORDREADER():\n",
    "  return [(u.id, u) for u in input_collection]\n",
    "\n",
    "output = MapReduce(RECORDREADER, MAP, REDUCE)\n",
    "output = list(output)\n",
    "output"
   ],
   "outputs": [
    {
     "data": {
      "text/plain": [
       "[(25, 370.0), (33, 800.0)]"
      ]
     },
     "execution_count": 16,
     "metadata": {},
     "output_type": "execute_result"
    }
   ],
   "execution_count": 16
  },
  {
   "cell_type": "markdown",
   "metadata": {
    "id": "kNKYIeerx0nY"
   },
   "source": [
    "## Matrix-Vector multiplication "
   ]
  },
  {
   "cell_type": "code",
   "metadata": {
    "id": "rwcntRcCyi1V",
    "colab": {
     "base_uri": "https://localhost:8080/",
     "height": 102
    },
    "outputId": "606737ab-6b55-455c-931f-4fc45155f8a9",
    "ExecuteTime": {
     "end_time": "2025-02-26T17:14:56.396891Z",
     "start_time": "2025-02-26T17:14:53.333585Z"
    }
   },
   "source": [
    "from typing import Iterator\n",
    "import numpy as np\n",
    "\n",
    "mat = np.ones((5,4))\n",
    "vec = np.random.rand(4) # in-memory vector in all map tasks\n",
    "\n",
    "def MAP(coordinates:(int, int), value:int):\n",
    "  i, j = coordinates\n",
    "  yield (i, value*vec[j])\n",
    " \n",
    "def REDUCE(i:int, products:Iterator[NamedTuple]):\n",
    "  sum = 0\n",
    "  for p in products:\n",
    "    sum += p\n",
    "  yield (i, sum)\n",
    "\n",
    "def RECORDREADER():\n",
    "  for i in range(mat.shape[0]):\n",
    "    for j in range(mat.shape[1]):\n",
    "      yield ((i, j), mat[i,j])\n",
    "      \n",
    "output = MapReduce(RECORDREADER, MAP, REDUCE)\n",
    "output = list(output)\n",
    "output"
   ],
   "outputs": [
    {
     "data": {
      "text/plain": [
       "[(0, 1.4726556497075234),\n",
       " (1, 1.4726556497075234),\n",
       " (2, 1.4726556497075234),\n",
       " (3, 1.4726556497075234),\n",
       " (4, 1.4726556497075234)]"
      ]
     },
     "execution_count": 17,
     "metadata": {},
     "output_type": "execute_result"
    }
   ],
   "execution_count": 17
  },
  {
   "cell_type": "markdown",
   "metadata": {
    "id": "ruZREYdi2o4O"
   },
   "source": [
    "## Inverted index "
   ]
  },
  {
   "cell_type": "code",
   "metadata": {
    "id": "vt9H9Alf3TYv",
    "colab": {
     "base_uri": "https://localhost:8080/",
     "height": 102
    },
    "outputId": "51aeffc9-e111-4607-bd84-cfcc7b56f238",
    "ExecuteTime": {
     "end_time": "2025-02-26T17:14:56.489366Z",
     "start_time": "2025-02-26T17:14:56.471322Z"
    }
   },
   "source": [
    "from typing import Iterator\n",
    "\n",
    "d1 = \"it is what it is\"\n",
    "d2 = \"what is it\"\n",
    "d3 = \"it is a banana\"\n",
    "documents = [d1, d2, d3]\n",
    "\n",
    "def RECORDREADER():\n",
    "  for (docid, document) in enumerate(documents):\n",
    "    yield (\"{}\".format(docid), document)\n",
    "      \n",
    "def MAP(docId:str, body:str):\n",
    "  for word in set(body.split(' ')):\n",
    "    yield (word, docId)\n",
    " \n",
    "def REDUCE(word:str, docIds:Iterator[str]):\n",
    "  yield (word, sorted(docIds))\n",
    "\n",
    "output = MapReduce(RECORDREADER, MAP, REDUCE)\n",
    "output = list(output)\n",
    "output"
   ],
   "outputs": [
    {
     "data": {
      "text/plain": [
       "[('is', ['0', '1', '2']),\n",
       " ('what', ['0', '1']),\n",
       " ('it', ['0', '1', '2']),\n",
       " ('banana', ['2']),\n",
       " ('a', ['2'])]"
      ]
     },
     "execution_count": 18,
     "metadata": {},
     "output_type": "execute_result"
    }
   ],
   "execution_count": 18
  },
  {
   "cell_type": "markdown",
   "metadata": {
    "id": "R7az-6DA6qr2"
   },
   "source": [
    "## WordCount"
   ]
  },
  {
   "cell_type": "code",
   "metadata": {
    "id": "dN-nbtgG6uYG",
    "colab": {
     "base_uri": "https://localhost:8080/",
     "height": 34
    },
    "outputId": "24117576-7931-401d-a581-28e246b23453",
    "ExecuteTime": {
     "end_time": "2025-02-26T17:14:56.819457Z",
     "start_time": "2025-02-26T17:14:56.797061Z"
    }
   },
   "source": [
    "from typing import Iterator\n",
    "\n",
    "d1 = \"\"\"\n",
    "it is what it is\n",
    "it is what it is\n",
    "it is what it is\"\"\"\n",
    "d2 = \"\"\"\n",
    "what is it\n",
    "what is it\"\"\"\n",
    "d3 = \"\"\"\n",
    "it is a banana\"\"\"\n",
    "documents = [d1, d2, d3]\n",
    "\n",
    "def RECORDREADER():\n",
    "  for (docid, document) in enumerate(documents):\n",
    "    for (lineid, line) in enumerate(document.split('\\n')):\n",
    "      yield (\"{}:{}\".format(docid,lineid), line)\n",
    "\n",
    "def MAP(docId:str, line:str):\n",
    "  for word in line.split(\" \"):  \n",
    "    yield (word, 1)\n",
    " \n",
    "def REDUCE(word:str, counts:Iterator[int]):\n",
    "  sum = 0\n",
    "  for c in counts:\n",
    "    sum += c\n",
    "  yield (word, sum)\n",
    "\n",
    "output = MapReduce(RECORDREADER, MAP, REDUCE)\n",
    "output = list(output)\n",
    "output"
   ],
   "outputs": [
    {
     "data": {
      "text/plain": [
       "[('', 3), ('it', 9), ('is', 9), ('what', 5), ('a', 1), ('banana', 1)]"
      ]
     },
     "execution_count": 19,
     "metadata": {},
     "output_type": "execute_result"
    }
   ],
   "execution_count": 19
  },
  {
   "cell_type": "markdown",
   "metadata": {
    "id": "h-jRAcYCAkkk"
   },
   "source": [
    "# MapReduce Distributed\n",
    "\n",
    "Добавляется в модель фабрика RECORDREARER-ов --- INPUTFORMAT, функция распределения промежуточных результатов по партициям PARTITIONER, и функция COMBINER для частичной аггрегации промежуточных результатов до распределения по новым партициям."
   ]
  },
  {
   "cell_type": "code",
   "metadata": {
    "id": "nw-b-xJsApgW",
    "ExecuteTime": {
     "end_time": "2025-02-26T17:14:57.057741Z",
     "start_time": "2025-02-26T17:14:57.030132Z"
    }
   },
   "source": [
    "def flatten(nested_iterable):\n",
    "  for iterable in nested_iterable:\n",
    "    for element in iterable:\n",
    "      yield element\n",
    "\n",
    "def groupbykey(iterable):\n",
    "  t = {}\n",
    "  for (k2, v2) in iterable:\n",
    "    t[k2] = t.get(k2, []) + [v2]\n",
    "  return t.items()\n",
    "      \n",
    "def groupbykey_distributed(map_partitions, PARTITIONER):\n",
    "  global reducers\n",
    "  partitions = [dict() for _ in range(reducers)]\n",
    "  for map_partition in map_partitions:\n",
    "    for (k2, v2) in map_partition:\n",
    "      p = partitions[PARTITIONER(k2)]\n",
    "      p[k2] = p.get(k2, []) + [v2]\n",
    "  return [(partition_id, sorted(partition.items(), key=lambda x: x[0])) for (partition_id, partition) in enumerate(partitions)]\n",
    " \n",
    "def PARTITIONER(obj):\n",
    "  global reducers\n",
    "  return hash(obj) % reducers\n",
    "  \n",
    "def MapReduceDistributed(INPUTFORMAT, MAP, REDUCE, PARTITIONER=PARTITIONER, COMBINER=None):\n",
    "  map_partitions = map(lambda record_reader: flatten(map(lambda k1v1: MAP(*k1v1), record_reader)), INPUTFORMAT())\n",
    "  if COMBINER != None:\n",
    "    map_partitions = map(lambda map_partition: flatten(map(lambda k2v2: COMBINER(*k2v2), groupbykey(map_partition))), map_partitions)\n",
    "  reduce_partitions = groupbykey_distributed(map_partitions, PARTITIONER) # shuffle\n",
    "  reduce_outputs = map(lambda reduce_partition: (reduce_partition[0], flatten(map(lambda reduce_input_group: REDUCE(*reduce_input_group), reduce_partition[1]))), reduce_partitions)\n",
    "  \n",
    "  print(\"{} key-value pairs were sent over a network.\".format(sum([len(vs) for (k,vs) in flatten([partition for (partition_id, partition) in reduce_partitions])])))\n",
    "  return reduce_outputs"
   ],
   "outputs": [],
   "execution_count": 20
  },
  {
   "cell_type": "markdown",
   "metadata": {
    "id": "kxirlf3XqZxY"
   },
   "source": [
    "## Спецификация MapReduce Distributed\n",
    "\n",
    "\n",
    "```\n",
    "f (k1, v1) -> (k2,v2)*\n",
    "g (k2, v2*) -> (k3,v3)*\n",
    " \n",
    "e1 (k1, v1)\n",
    "e2 (k2, v2)\n",
    "partition1 (k2, v2)*\n",
    "partition2 (k2, v2*)*\n",
    " \n",
    "flatmap (e1->e2*, e1*) -> partition1*\n",
    "groupby (partition1*) -> partition2*\n",
    "\n",
    "mapreduce ((k1,v1)*) -> (k3,v3)*\n",
    "mapreduce .flatmap(f).groupby(k2).flatmap(g)\n",
    "```\n",
    "\n"
   ]
  },
  {
   "cell_type": "markdown",
   "metadata": {
    "id": "CWYw_CpbbY3C"
   },
   "source": [
    "## WordCount "
   ]
  },
  {
   "cell_type": "code",
   "metadata": {
    "id": "uR_zfGFkMZlp",
    "colab": {
     "base_uri": "https://localhost:8080/",
     "height": 68
    },
    "outputId": "c8d46167-473d-43b9-881a-2396991b3731",
    "ExecuteTime": {
     "end_time": "2025-02-26T17:14:57.158114Z",
     "start_time": "2025-02-26T17:14:57.127762Z"
    }
   },
   "source": [
    "from typing import Iterator\n",
    "import numpy as np\n",
    "\n",
    "d1 = \"\"\"\n",
    "it is what it is\n",
    "it is what it is\n",
    "it is what it is\"\"\"\n",
    "d2 = \"\"\"\n",
    "what is it\n",
    "what is it\"\"\"\n",
    "d3 = \"\"\"\n",
    "it is a banana\"\"\"\n",
    "documents = [d1, d2, d3, d1, d2, d3]\n",
    "\n",
    "maps = 3\n",
    "reducers = 2\n",
    "\n",
    "def INPUTFORMAT():\n",
    "  global maps\n",
    "  \n",
    "  def RECORDREADER(split):\n",
    "    for (docid, document) in enumerate(split):\n",
    "      for (lineid, line) in enumerate(document.split('\\n')):\n",
    "        yield (\"{}:{}\".format(docid,lineid), line)\n",
    "      \n",
    "  split_size =  int(np.ceil(len(documents)/maps))\n",
    "  for i in range(0, len(documents), split_size):\n",
    "    yield RECORDREADER(documents[i:i+split_size])\n",
    "\n",
    "def MAP(docId:str, line:str):\n",
    "  for word in line.split(\" \"):  \n",
    "    yield (word, 1)\n",
    " \n",
    "def REDUCE(word:str, counts:Iterator[int]):\n",
    "  sum = 0\n",
    "  for c in counts:\n",
    "    sum += c\n",
    "  yield (word, sum)\n",
    "  \n",
    "# try to set COMBINER=REDUCER and look at the number of values sent over the network \n",
    "partitioned_output = MapReduceDistributed(INPUTFORMAT, MAP, REDUCE, COMBINER=None) \n",
    "partitioned_output = [(partition_id, list(partition)) for (partition_id, partition) in partitioned_output]\n",
    "partitioned_output"
   ],
   "outputs": [
    {
     "name": "stdout",
     "output_type": "stream",
     "text": [
      "56 key-value pairs were sent over a network.\n"
     ]
    },
    {
     "data": {
      "text/plain": [
       "[(0, [('', 6), ('banana', 2), ('is', 18), ('it', 18)]),\n",
       " (1, [('a', 2), ('what', 10)])]"
      ]
     },
     "execution_count": 21,
     "metadata": {},
     "output_type": "execute_result"
    }
   ],
   "execution_count": 21
  },
  {
   "cell_type": "markdown",
   "metadata": {
    "id": "gCJGx8IQ87xS"
   },
   "source": [
    "## TeraSort"
   ]
  },
  {
   "cell_type": "code",
   "metadata": {
    "id": "P2v8v1v_8_YR",
    "colab": {
     "base_uri": "https://localhost:8080/",
     "height": 578
    },
    "outputId": "e0987c25-9757-46cb-8e55-d5d2adfbee2b",
    "ExecuteTime": {
     "end_time": "2025-02-26T17:14:57.410064Z",
     "start_time": "2025-02-26T17:14:57.380920Z"
    }
   },
   "source": [
    "import numpy as np\n",
    "\n",
    "input_values = np.random.rand(30)\n",
    "maps = 3\n",
    "reducers = 2\n",
    "min_value = 0.0\n",
    "max_value = 1.0\n",
    "\n",
    "def INPUTFORMAT():\n",
    "  global maps\n",
    "  \n",
    "  def RECORDREADER(split):\n",
    "    for value in split:\n",
    "        yield (value, None)\n",
    "      \n",
    "  split_size =  int(np.ceil(len(input_values)/maps))\n",
    "  for i in range(0, len(input_values), split_size):\n",
    "    yield RECORDREADER(input_values[i:i+split_size])\n",
    "    \n",
    "def MAP(value:int, _):\n",
    "  yield (value, None)\n",
    "  \n",
    "def PARTITIONER(key):\n",
    "  global reducers\n",
    "  global max_value\n",
    "  global min_value\n",
    "  bucket_size = (max_value-min_value)/reducers\n",
    "  bucket_id = 0\n",
    "  while((key>(bucket_id+1)*bucket_size) and ((bucket_id+1)*bucket_size<max_value)):\n",
    "    bucket_id += 1\n",
    "  return bucket_id\n",
    "\n",
    "def REDUCE(value:int, _):\n",
    "  yield (None,value)\n",
    "  \n",
    "partitioned_output = MapReduceDistributed(INPUTFORMAT, MAP, REDUCE, COMBINER=None, PARTITIONER=PARTITIONER)\n",
    "partitioned_output = [(partition_id, list(partition)) for (partition_id, partition) in partitioned_output]\n",
    "partitioned_output"
   ],
   "outputs": [
    {
     "name": "stdout",
     "output_type": "stream",
     "text": [
      "30 key-value pairs were sent over a network.\n"
     ]
    },
    {
     "data": {
      "text/plain": [
       "[(0,\n",
       "  [(None, 0.00080821586145019),\n",
       "   (None, 0.019284317217848068),\n",
       "   (None, 0.031173996648541924),\n",
       "   (None, 0.04136026003674609),\n",
       "   (None, 0.0683254220417675),\n",
       "   (None, 0.24530715817986626),\n",
       "   (None, 0.2710475162125673),\n",
       "   (None, 0.2761083534269546),\n",
       "   (None, 0.3538704289641068),\n",
       "   (None, 0.3674202686000735),\n",
       "   (None, 0.40756767410010686),\n",
       "   (None, 0.4079278656820513),\n",
       "   (None, 0.41489565158408015),\n",
       "   (None, 0.44407635767881914),\n",
       "   (None, 0.4499681614159988),\n",
       "   (None, 0.4967897129086287)]),\n",
       " (1,\n",
       "  [(None, 0.5207655403853846),\n",
       "   (None, 0.5328516944678419),\n",
       "   (None, 0.5967209363138527),\n",
       "   (None, 0.6001391082066033),\n",
       "   (None, 0.6552122130188338),\n",
       "   (None, 0.6642658959330666),\n",
       "   (None, 0.7046395649958402),\n",
       "   (None, 0.802346531176548),\n",
       "   (None, 0.8200630451209431),\n",
       "   (None, 0.8214242619122328),\n",
       "   (None, 0.8516382504091402),\n",
       "   (None, 0.9404681026633106),\n",
       "   (None, 0.9594654488596593),\n",
       "   (None, 0.99093316288953)])]"
      ]
     },
     "execution_count": 22,
     "metadata": {},
     "output_type": "execute_result"
    }
   ],
   "execution_count": 22
  },
  {
   "cell_type": "markdown",
   "metadata": {
    "id": "Iy65YJTH99iT"
   },
   "source": [
    "# Упражнения\n",
    "Упражнения взяты из Rajaraman A., Ullman J. D. Mining of massive datasets. – Cambridge University Press, 2011.\n",
    "\n",
    "\n",
    "Для выполнения заданий переопределите функции RECORDREADER, MAP, REDUCE. Для модели распределённой системы может потребоваться переопределение функций PARTITION и COMBINER."
   ]
  },
  {
   "cell_type": "markdown",
   "metadata": {
    "id": "cfvAeZm3S8S8"
   },
   "source": [
    "### Максимальное значение ряда\n",
    "\n",
    "Разработайте MapReduce алгоритм, который находит максимальное число входного списка чисел."
   ]
  },
  {
   "cell_type": "code",
   "metadata": {
    "id": "3GRA1JR-Tkbg",
    "ExecuteTime": {
     "end_time": "2025-02-26T17:35:15.146956Z",
     "start_time": "2025-02-26T17:35:15.132199Z"
    }
   },
   "source": [
    "def MAP_MAX(_, row: NamedTuple):\n",
    "    yield (\"max\", row)\n",
    "\n",
    "# Поиск самого старшего пользователя\n",
    "def REDUCE_MAX(max_str: str, rows: Iterator[NamedTuple]):\n",
    "    max_age = 0\n",
    "    max_age_user = None\n",
    "    for row in rows:\n",
    "        if row.age > max_age:\n",
    "            max_age = row.age\n",
    "            max_age_user = row\n",
    "    yield (max_str, max_age_user)\n",
    "\n",
    "def RECORDREADER():\n",
    "    return [(u.id, u) for u in input_collection]\n",
    "\n",
    "output = MapReduce(RECORDREADER, MAP_MAX, REDUCE_MAX)\n",
    "output = list(output)\n",
    "output"
   ],
   "outputs": [
    {
     "data": {
      "text/plain": [
       "[('max', User(id=0, age=55, social_contacts=20, gender='male'))]"
      ]
     },
     "execution_count": 34,
     "metadata": {},
     "output_type": "execute_result"
    }
   ],
   "execution_count": 34
  },
  {
   "cell_type": "markdown",
   "metadata": {
    "id": "k86bXnqZTk-U"
   },
   "source": [
    "### Арифметическое среднее\n",
    "\n",
    "Разработайте MapReduce алгоритм, который находит арифметическое среднее.\n",
    "\n",
    "$$\\overline{X} = \\frac{1}{n}\\sum_{i=0}^{n} x_i$$\n"
   ]
  },
  {
   "cell_type": "code",
   "metadata": {
    "id": "MPoY5pkfUNZf",
    "ExecuteTime": {
     "end_time": "2025-02-26T17:36:48.717519Z",
     "start_time": "2025-02-26T17:36:48.703894Z"
    }
   },
   "source": [
    "def MAP_AVG(_, row: NamedTuple):\n",
    "    yield (\"average age\", row)\n",
    "\n",
    "# Подсчет среднего значения возраста\n",
    "def REDUCE_AVG(average_str: str, rows: Iterator[NamedTuple]):\n",
    "    count = 0\n",
    "    summa = 0\n",
    "    for row in rows:\n",
    "      summa += row.age\n",
    "      count += 1\n",
    "    yield (average_str, summa/count)\n",
    "\n",
    "def RECORDREADER():\n",
    "    return [(u.id, u) for u in input_collection]\n",
    "\n",
    "output = MapReduce(RECORDREADER, MAP_AVG, REDUCE_AVG)\n",
    "output = list(output)\n",
    "output"
   ],
   "outputs": [
    {
     "data": {
      "text/plain": [
       "[('average age', 34.5)]"
      ]
     },
     "execution_count": 37,
     "metadata": {},
     "output_type": "execute_result"
    }
   ],
   "execution_count": 37
  },
  {
   "cell_type": "markdown",
   "metadata": {
    "id": "xanzszhsIlLe"
   },
   "source": [
    "### GroupByKey на основе сортировки\n",
    "\n",
    "Реализуйте groupByKey на основе сортировки, проверьте его работу на примерах"
   ]
  },
  {
   "cell_type": "code",
   "metadata": {
    "id": "hQPn3USsIkEC",
    "ExecuteTime": {
     "end_time": "2025-02-26T17:37:32.551255Z",
     "start_time": "2025-02-26T17:37:32.526221Z"
    }
   },
   "source": [
    "def groupByKey(iterable):\n",
    "    # Сортировка по ключу\n",
    "    iterable = sorted(iterable, key=lambda user: user[0])\n",
    "    t = {}\n",
    "    for k2, v2 in iterable:\n",
    "        t[k2] = t.get(k2, []) + [v2]\n",
    "    return t.items()\n",
    "\n",
    "output = MapReduce(RECORDREADER, MAP_MAX, REDUCE_MAX)\n",
    "output = list(output)\n",
    "print(f\"max: {output}\")\n",
    "\n",
    "output = MapReduce(RECORDREADER, MAP_AVG, REDUCE_AVG)\n",
    "output = list(output)\n",
    "print(f\"average: {output}\")"
   ],
   "outputs": [
    {
     "name": "stdout",
     "output_type": "stream",
     "text": [
      "max: [('max', User(id=0, age=55, social_contacts=20, gender='male'))]\n",
      "average: [('average age', 34.5)]\n"
     ]
    }
   ],
   "execution_count": 39
  },
  {
   "cell_type": "markdown",
   "metadata": {
    "id": "5SgEjCZyGnu6"
   },
   "source": [
    "### Drop duplicates (set construction, unique elements, distinct)\n",
    "\n",
    "Реализуйте распределённую операцию исключения дубликатов"
   ]
  },
  {
   "cell_type": "code",
   "metadata": {
    "id": "okjbyApjGhMt",
    "ExecuteTime": {
     "end_time": "2025-02-27T09:22:28.167915Z",
     "start_time": "2025-02-27T09:22:28.127504Z"
    }
   },
   "source": [
    "input_collection = [\n",
    "    User(id=0, age=55, gender='male', social_contacts=20),\n",
    "    User(id=0, age=54, gender=\"male\", social_contacts=20),\n",
    "    User(id=1, age=25, gender='female', social_contacts=240),\n",
    "    User(id=2, age=25, gender='female', social_contacts=500),\n",
    "    User(id=3, age=33, gender='female', social_contacts=800),\n",
    "    User(id=3, age=32, gender=\"female\", social_contacts=753),\n",
    "    User(id=4, age=21, gender=\"male\", social_contacts=100),\n",
    "]\n",
    "\n",
    "def flatten(nested_iterable):\n",
    "  for iterable in nested_iterable:\n",
    "    for element in iterable:\n",
    "      yield element\n",
    "\n",
    "def groupbykey(iterable):\n",
    "  t = {}\n",
    "  for (k2, v2) in iterable:\n",
    "    t[k2] = t.get(k2, []) + [v2]\n",
    "  return t.items()\n",
    "\n",
    "def groupbykey_distributed(map_partitions, PARTITIONER):\n",
    "  global reducers\n",
    "  partitions = [dict() for _ in range(reducers)]\n",
    "  for map_partition in map_partitions:\n",
    "    for (k2, v2) in map_partition:\n",
    "      p = partitions[PARTITIONER(k2)]\n",
    "      p[k2] = p.get(k2, []) + [v2]\n",
    "  return [(partition_id, sorted(partition.items(), key=lambda x: x[0])) for (partition_id, partition) in enumerate(partitions)]\n",
    "\n",
    "def PARTITIONER(obj):\n",
    "  global reducers\n",
    "  return hash(obj) % reducers\n",
    "\n",
    "def MapReduceDistributed(INPUTFORMAT, MAP, REDUCE, PARTITIONER=PARTITIONER, COMBINER=None):\n",
    "  map_partitions = map(lambda record_reader: flatten(map(lambda k1v1: MAP(*k1v1), record_reader)), INPUTFORMAT())\n",
    "\n",
    "  if COMBINER != None:\n",
    "    map_partitions = map(lambda map_partition: flatten(map(lambda k2v2: COMBINER(*k2v2), groupbykey(map_partition))), map_partitions)\n",
    "\n",
    "  reduce_partitions = groupbykey_distributed(map_partitions, PARTITIONER) # shuffle\n",
    "  reduce_outputs = map(lambda reduce_partition: (reduce_partition[0], flatten(map(lambda reduce_input_group: REDUCE(*reduce_input_group), reduce_partition[1]))), reduce_partitions)\n",
    "\n",
    "  print(\"{} key-value pairs were sent over a network.\".format(sum([len(vs) for (k,vs) in flatten([partition for (partition_id, partition) in reduce_partitions])])))\n",
    "  return reduce_outputs\n",
    "\n",
    "maps = 3\n",
    "reducers = 2\n",
    "\n",
    "def INPUTFORMAT():\n",
    "    global maps\n",
    "\n",
    "    def RECORDREADER(split):\n",
    "        for userindex, user in enumerate(split):\n",
    "            yield (userindex, user)\n",
    "\n",
    "    split_size = int(np.ceil(len(input_collection) / maps)) # распределяем по вычислительным узлам\n",
    "    for i in range(0, len(input_collection), split_size):\n",
    "        yield RECORDREADER(input_collection[i : i + split_size])\n",
    "\n",
    "# группировка пользователей по id\n",
    "def MAP_UNIQUE(_, user: str):\n",
    "    yield (user.id, user)\n",
    "\n",
    "# оставляем только первого среди одинаковых id\n",
    "def REDUCE_UNIQUE(user_id: int, users: Iterator[int]):\n",
    "    yield users[0]\n",
    "\n",
    "partitioned_output = MapReduceDistributed(INPUTFORMAT, MAP_UNIQUE, REDUCE_UNIQUE, COMBINER=None)\n",
    "partitioned_output = [(partition_id, list(partition)) for (partition_id, partition) in partitioned_output]\n",
    "partitioned_output"
   ],
   "outputs": [
    {
     "name": "stdout",
     "output_type": "stream",
     "text": [
      "7 key-value pairs were sent over a network.\n"
     ]
    },
    {
     "data": {
      "text/plain": [
       "[(0,\n",
       "  [User(id=0, age=55, social_contacts=20, gender='male'),\n",
       "   User(id=2, age=25, social_contacts=500, gender='female'),\n",
       "   User(id=4, age=21, social_contacts=100, gender='male')]),\n",
       " (1,\n",
       "  [User(id=1, age=25, social_contacts=240, gender='female'),\n",
       "   User(id=3, age=33, social_contacts=800, gender='female')])]"
      ]
     },
     "execution_count": 43,
     "metadata": {},
     "output_type": "execute_result"
    }
   ],
   "execution_count": 43
  },
  {
   "cell_type": "markdown",
   "metadata": {
    "id": "e7sRGoTXuJze"
   },
   "source": [
    "#Операторы реляционной алгебры\n",
    "### Selection (Выборка)\n",
    "\n",
    "**The Map Function**: Для  каждого кортежа $t \\in R$ вычисляется истинность предиката $C$. В случае истины создаётся пара ключ-значение $(t, t)$. В паре ключ и значение одинаковы, равны $t$.\n",
    "\n",
    "**The Reduce Function:** Роль функции Reduce выполняет функция идентичности, которая возвращает то же значение, что получила на вход.\n",
    "\n"
   ]
  },
  {
   "cell_type": "code",
   "metadata": {
    "id": "4nKIKe59uIfc",
    "ExecuteTime": {
     "end_time": "2025-02-27T09:24:01.182433Z",
     "start_time": "2025-02-27T09:24:01.166429Z"
    }
   },
   "source": [
    "# предикатом C является проверка параметра age. Можно взять любой, например пол\n",
    "def MAP_SELECT(_, row: NamedTuple):\n",
    "    if row.age == 21:\n",
    "        yield (row, row)\n",
    "\n",
    "def REDUCE_SELECT(row: str, rows: Iterator[NamedTuple]):\n",
    "    yield (row, rows)\n",
    "\n",
    "def RECORDREADER():\n",
    "    return [(u.id, u) for u in input_collection]\n",
    "\n",
    "output = MapReduce(RECORDREADER, MAP_SELECT, REDUCE_SELECT)\n",
    "output = list(output)\n",
    "output"
   ],
   "outputs": [
    {
     "data": {
      "text/plain": [
       "[(User(id=4, age=21, social_contacts=100, gender='male'),\n",
       "  [User(id=4, age=21, social_contacts=100, gender='male')])]"
      ]
     },
     "execution_count": 44,
     "metadata": {},
     "output_type": "execute_result"
    }
   ],
   "execution_count": 44
  },
  {
   "cell_type": "markdown",
   "metadata": {
    "id": "w27Ca-_Ku85V"
   },
   "source": [
    "### Projection (Проекция)\n",
    "\n",
    "Проекция на множество атрибутов $S$.\n",
    "\n",
    "**The Map Function:** Для каждого кортежа $t \\in R$ создайте кортеж $t′$, исключая  из $t$ те значения, атрибуты которых не принадлежат  $S$. Верните пару $(t′, t′)$.\n",
    "\n",
    "**The Reduce Function:** Для каждого ключа $t′$, созданного любой Map задачей, вы получаете одну или несколько пар $(t′, t′)$. Reduce функция преобразует $(t′, [t′, t′, . . . , t′])$ в $(t′, t′)$, так, что для ключа $t′$ возвращается одна пара  $(t′, t′)$."
   ]
  },
  {
   "cell_type": "code",
   "metadata": {
    "id": "BEvuY4GqvhS6",
    "ExecuteTime": {
     "end_time": "2025-02-27T09:55:59.103821Z",
     "start_time": "2025-02-27T09:55:59.075665Z"
    }
   },
   "source": [
    "input_collection = [\n",
    "    dict(id=0, age=54, gender=\"male\", social_contacts=20),\n",
    "    dict(id=0, age=25, gender=\"female\", social_contacts=240),\n",
    "    dict(id=1, age=27, gender=\"male\", social_contacts=642),\n",
    "    dict(id=2, age=16, gender=\"male\", social_contacts=123),\n",
    "    dict(id=2, age=35, gender=\"female\", social_contacts=247),\n",
    "    dict(id=3, age=32, gender=\"male\", social_contacts=521),\n",
    "    dict(id=3, age=32, gender=\"male\", social_contacts=753),\n",
    "]\n",
    "\n",
    "def flatten(nested_iterable):\n",
    "    for iterable in nested_iterable:\n",
    "        for element in iterable:\n",
    "            yield element\n",
    "\n",
    "\n",
    "def groupbykey(iterable):\n",
    "    t = {}\n",
    "    for k2, v2 in iterable:\n",
    "        t[k2] = t.get(k2, []) + [v2]\n",
    "    return t.items()\n",
    "\n",
    "\n",
    "def MapReduce(RECORDREADER, MAP, REDUCE):\n",
    "    return flatten(\n",
    "        map(\n",
    "            lambda x: REDUCE(*x),\n",
    "            groupbykey(flatten(map(lambda x: MAP(*x), RECORDREADER()))),\n",
    "        )\n",
    "    )\n",
    "\n",
    "def MAP_PROJECTION(_, iterable): # делаем проекцию по S\n",
    "  S = [\"age\", \"gender\"]\n",
    "  filtered_data = [{key: item[key] for key in S if key in item} for item in input_collection]\n",
    "  for data in filtered_data:\n",
    "    yield (data[\"age\"], data)\n",
    "\n",
    "def REDUCE_PROJECTION(row: str, rows: Iterator[NamedTuple]): # убираем повторения\n",
    "  unique_rows = set()\n",
    "  for row_data in rows:\n",
    "      row_tuple = tuple(row_data.items())\n",
    "      unique_rows.add(row_tuple)\n",
    "\n",
    "  return [{key: value for key, value in row_tuple} for row_tuple in unique_rows]\n",
    "\n",
    "def RECORDREADER():\n",
    "    return [(u[\"id\"], u) for u in input_collection]\n",
    "\n",
    "output = MapReduce(RECORDREADER, MAP_PROJECTION, REDUCE_PROJECTION)\n",
    "output = list(output)\n",
    "output"
   ],
   "outputs": [
    {
     "data": {
      "text/plain": [
       "[{'age': 54, 'gender': 'male'},\n",
       " {'age': 25, 'gender': 'female'},\n",
       " {'age': 27, 'gender': 'male'},\n",
       " {'age': 16, 'gender': 'male'},\n",
       " {'age': 35, 'gender': 'female'},\n",
       " {'age': 32, 'gender': 'male'}]"
      ]
     },
     "execution_count": 53,
     "metadata": {},
     "output_type": "execute_result"
    }
   ],
   "execution_count": 53
  },
  {
   "cell_type": "markdown",
   "metadata": {
    "id": "7gau6lKXvn2R"
   },
   "source": [
    "### Union (Объединение)\n",
    "\n",
    "**The Map Function:** Превратите каждый входной кортеж $t$ в пару ключ-значение $(t, t)$.\n",
    "\n",
    "**The Reduce Function:** С каждым ключом $t$ будет ассоциировано одно или два значений. В обоих случаях создайте $(t, t)$ в качестве выходного значения."
   ]
  },
  {
   "cell_type": "code",
   "metadata": {
    "id": "Sns7a5agv3nw",
    "ExecuteTime": {
     "end_time": "2025-02-27T09:58:00.089757Z",
     "start_time": "2025-02-27T09:58:00.067417Z"
    }
   },
   "source": [
    "input_collection_a = [\n",
    "    User(id=1, age=54, gender=\"male\", social_contacts=20),\n",
    "    User(id=2, age=25, gender=\"female\", social_contacts=240),\n",
    "    User(id=3, age=27, gender=\"male\", social_contacts=642),\n",
    "    User(id=4, age=16, gender=\"male\", social_contacts=123),\n",
    "    User(id=5, age=35, gender=\"female\", social_contacts=247),\n",
    "]\n",
    "\n",
    "input_collection_b = [\n",
    "    User(id=5, age=35, gender=\"female\", social_contacts=247),\n",
    "    User(id=6, age=31, gender=\"male\", social_contacts=521),\n",
    "    User(id=7, age=32, gender=\"female\", social_contacts=753),\n",
    "]\n",
    "\n",
    "def MAP_UNION(_, row: NamedTuple):\n",
    "    yield (row.id, row)\n",
    "\n",
    "# для каждого пользователя создается пара (t, t), даже если он есть только в одной из выборок\n",
    "def REDUCE_UNION(row: str, rows: Iterator[NamedTuple]):\n",
    "    for elem in rows:\n",
    "      yield(row, elem)\n",
    "\n",
    "def RECORDREADER():\n",
    "    return [(u.id, u) for u in input_collection_a + input_collection_b]\n",
    "\n",
    "output = MapReduce(RECORDREADER, MAP_UNION, REDUCE_UNION)\n",
    "output = list(output)\n",
    "output"
   ],
   "outputs": [
    {
     "data": {
      "text/plain": [
       "[(1, User(id=1, age=54, social_contacts=20, gender='male')),\n",
       " (2, User(id=2, age=25, social_contacts=240, gender='female')),\n",
       " (3, User(id=3, age=27, social_contacts=642, gender='male')),\n",
       " (4, User(id=4, age=16, social_contacts=123, gender='male')),\n",
       " (5, User(id=5, age=35, social_contacts=247, gender='female')),\n",
       " (5, User(id=5, age=35, social_contacts=247, gender='female')),\n",
       " (6, User(id=6, age=31, social_contacts=521, gender='male')),\n",
       " (7, User(id=7, age=32, social_contacts=753, gender='female'))]"
      ]
     },
     "execution_count": 55,
     "metadata": {},
     "output_type": "execute_result"
    }
   ],
   "execution_count": 55
  },
  {
   "cell_type": "markdown",
   "metadata": {
    "id": "dQ8TuEbjv4J8"
   },
   "source": [
    "### Intersection (Пересечение)\n",
    "\n",
    "**The Map Function:** Превратите каждый кортеж $t$ в пары ключ-значение $(t, t)$.\n",
    "\n",
    "**The Reduce Function:** Если для ключа $t$ есть список из двух элементов $[t, t]$ $-$ создайте пару $(t, t)$. Иначе, ничего не создавайте."
   ]
  },
  {
   "cell_type": "code",
   "metadata": {
    "id": "XKlBZh4IwERR",
    "ExecuteTime": {
     "end_time": "2025-02-27T10:02:36.902782Z",
     "start_time": "2025-02-27T10:02:36.884859Z"
    }
   },
   "source": [
    "def MAP_INTERSECTION(_, row: NamedTuple):\n",
    "    yield(row.id, row)\n",
    "    \n",
    "# Возвращает пользователя, только если он присутствует в обоих выборках\n",
    "def REDUCE_INTERSECTION(row: str, rows: Iterator[NamedTuple]):\n",
    "  if len(rows) ==2:\n",
    "    yield(rows[0], rows[1])\n",
    "\n",
    "def RECORDREADER():\n",
    "    return [(u.id, u) for u in input_collection_a + input_collection_b]\n",
    "\n",
    "output = MapReduce(RECORDREADER, MAP_INTERSECTION, REDUCE_INTERSECTION)\n",
    "output = list(output)\n",
    "output"
   ],
   "outputs": [
    {
     "data": {
      "text/plain": [
       "[(User(id=5, age=35, social_contacts=247, gender='female'),\n",
       "  User(id=5, age=35, social_contacts=247, gender='female'))]"
      ]
     },
     "execution_count": 57,
     "metadata": {},
     "output_type": "execute_result"
    }
   ],
   "execution_count": 57
  },
  {
   "cell_type": "markdown",
   "metadata": {
    "id": "AVOpqoY3wE5k"
   },
   "source": [
    "### Difference (Разница)\n",
    "\n",
    "**The Map Function:** Для кортежа $t \\in R$, создайте пару $(t, R)$, и для кортежа $t \\in S$, создайте пару $(t, S)$. Задумка заключается в том, чтобы значение пары было именем отношения $R$ or $S$, которому принадлежит кортеж (а лучше, единичный бит, по которому можно два отношения различить $R$ or $S$), а не весь набор атрибутов отношения.\n",
    "\n",
    "**The Reduce Function:** Для каждого ключа $t$, если соответствующее значение является списком $[R]$, создайте пару $(t, t)$. В иных случаях не предпринимайте действий."
   ]
  },
  {
   "cell_type": "code",
   "metadata": {
    "id": "QE_AC09lwZIZ",
    "ExecuteTime": {
     "end_time": "2025-02-27T10:09:31.513169Z",
     "start_time": "2025-02-27T10:09:31.498643Z"
    }
   },
   "source": [
    "# группировка по пользователям\n",
    "def MAP_DIFFERENCE(collection_id, user):\n",
    "    yield (user, collection_id)\n",
    "\n",
    "# возвращаем пользователей, входящих только в первую выборку (и не входящих во вторую)\n",
    "def REDUCE_DIFFERENCE(user, collections):\n",
    "    if collections == [0]:\n",
    "        yield (user)\n",
    "\n",
    "def RECORDREADER():\n",
    "    return [(0, a) for a in input_collection_a] + [(1, b) for b in input_collection_b]\n",
    "\n",
    "output = MapReduce(RECORDREADER, MAP_DIFFERENCE, REDUCE_DIFFERENCE)\n",
    "output = list(output)\n",
    "output"
   ],
   "outputs": [
    {
     "data": {
      "text/plain": [
       "[User(id=1, age=54, social_contacts=20, gender='male'),\n",
       " User(id=2, age=25, social_contacts=240, gender='female'),\n",
       " User(id=3, age=27, social_contacts=642, gender='male'),\n",
       " User(id=4, age=16, social_contacts=123, gender='male')]"
      ]
     },
     "execution_count": 60,
     "metadata": {},
     "output_type": "execute_result"
    }
   ],
   "execution_count": 60
  },
  {
   "cell_type": "markdown",
   "metadata": {
    "id": "j8I58V2VwhSm"
   },
   "source": [
    "### Natural Join\n",
    "\n",
    "**The Map Function:** Для каждого кортежа $(a, b)$ отношения $R$, создайте пару $(b,(R, a))$. Для каждого кортежа $(b, c)$ отношения $S$, создайте пару $(b,(S, c))$.\n",
    "\n",
    "**The Reduce Function:** Каждый ключ $b$ будет асоциирован со списком пар, которые принимают форму либо $(R, a)$, либо $(S, c)$. Создайте все пары, одни, состоящие из  первого компонента $R$, а другие, из первого компонента $S$, то есть $(R, a)$ и $(S, c)$. На выходе вы получаете последовательность пар ключ-значение из списков ключей и значений. Ключ не нужен. Каждое значение, это тройка $(a, b, c)$ такая, что $(R, a)$ и $(S, c)$ это принадлежат входному списку значений."
   ]
  },
  {
   "cell_type": "code",
   "metadata": {
    "id": "yHiuuTctw86I",
    "ExecuteTime": {
     "end_time": "2025-02-27T10:19:43.801777Z",
     "start_time": "2025-02-27T10:19:43.777918Z"
    }
   },
   "source": [
    "class User(NamedTuple):\n",
    "    id: int\n",
    "    age: str\n",
    "    social_contacts: int\n",
    "    gender: str\n",
    "    pet_id: int\n",
    "\n",
    "users_collection = [\n",
    "    User(id=1, age=54, gender=\"male\", social_contacts=20, pet_id=1),\n",
    "    User(id=2, age=25, gender=\"female\", social_contacts=240, pet_id=1),\n",
    "    User(id=3, age=27, gender=\"male\", social_contacts=642, pet_id=2),\n",
    "    User(id=4, age=16, gender=\"male\", social_contacts=123, pet_id=3),\n",
    "    User(id=5, age=35, gender=\"female\", social_contacts=247, pet_id=4),\n",
    "]\n",
    "\n",
    "class Pet(NamedTuple):\n",
    "    id: int\n",
    "    name: str\n",
    "\n",
    "pets_collection = [\n",
    "    Pet(id=1, name=\"cat\"),\n",
    "    Pet(id=2, name=\"dog\"),\n",
    "    Pet(id=3, name=\"parrot\"),\n",
    "    Pet(id=4, name=\"crocodile\"),\n",
    "]\n",
    "\n",
    "# группировка пользователей по id животного\n",
    "def MAP_JOIN(pet_id, row):\n",
    "    yield (pet_id, row)\n",
    "\n",
    "def REDUCE_JOIN(pet_id, rows):\n",
    "    users = []\n",
    "    pet = None\n",
    "\n",
    "    for row in rows:\n",
    "        if type(row) is User:\n",
    "            users += [row]\n",
    "        else:\n",
    "            pet = row\n",
    "\n",
    "    for row in rows:\n",
    "        if type(row) is User:\n",
    "            # Возвращает тройки (a,b,c), где a - пользователь, b - id питомца, c - вид питомца\n",
    "            yield (row, row.pet_id, pet)\n",
    "\n",
    "\n",
    "# На первом месте стоит id животного, на втором - сам питомец или пользователь\n",
    "def RECORDREADER():\n",
    "    return [(user.pet_id, user) for user in users_collection] + [\n",
    "        (pet.id, pet) for pet in pets_collection\n",
    "    ]\n",
    "\n",
    "\n",
    "output = MapReduce(RECORDREADER, MAP_JOIN, REDUCE_JOIN)\n",
    "output = list(output)\n",
    "joined_data = output\n",
    "joined_data"
   ],
   "outputs": [
    {
     "data": {
      "text/plain": [
       "[(User(id=1, age=54, social_contacts=20, gender='male', pet_id=1),\n",
       "  1,\n",
       "  Pet(id=1, name='cat')),\n",
       " (User(id=2, age=25, social_contacts=240, gender='female', pet_id=1),\n",
       "  1,\n",
       "  Pet(id=1, name='cat')),\n",
       " (User(id=3, age=27, social_contacts=642, gender='male', pet_id=2),\n",
       "  2,\n",
       "  Pet(id=2, name='dog')),\n",
       " (User(id=4, age=16, social_contacts=123, gender='male', pet_id=3),\n",
       "  3,\n",
       "  Pet(id=3, name='parrot')),\n",
       " (User(id=5, age=35, social_contacts=247, gender='female', pet_id=4),\n",
       "  4,\n",
       "  Pet(id=4, name='crocodile'))]"
      ]
     },
     "execution_count": 66,
     "metadata": {},
     "output_type": "execute_result"
    }
   ],
   "execution_count": 66
  },
  {
   "cell_type": "markdown",
   "metadata": {
    "id": "kYdlr0YUxE27"
   },
   "source": [
    "### Grouping and Aggregation (Группировка и аггрегация)\n",
    "\n",
    "**The Map Function:** Для каждого кортежа $(a, b, c$) создайте пару $(a, b)$.\n",
    "\n",
    "**The Reduce Function:** Ключ представляет ту или иную группу. Примение аггрегирующую операцию $\\theta$ к списку значений $[b1, b2, . . . , bn]$ ассоциированных с ключом $a$. Возвращайте в выходной поток $(a, x)$, где $x$ результат применения  $\\theta$ к списку. Например, если $\\theta$ это $SUM$, тогда $x = b1 + b2 + · · · + bn$, а если $\\theta$ is $MAX$, тогда $x$ это максимальное из значений $b1, b2, . . . , bn$."
   ]
  },
  {
   "cell_type": "code",
   "metadata": {
    "id": "MLPckfEGxico",
    "ExecuteTime": {
     "end_time": "2025-02-27T10:22:38.734718Z",
     "start_time": "2025-02-27T10:22:38.720820Z"
    }
   },
   "source": [
    "# группировка по id животного\n",
    "def MAP_GROUP(pet_id, user, pet):\n",
    "    yield (pet_id, user)\n",
    "\n",
    "# подсчет количества владельцев каждого животного\n",
    "def REDUCE_GROUP(pet_id, rows):\n",
    "  yield f\"pet with id = {pet_id} has {len(rows)} owner(s)\"\n",
    "\n",
    "def RECORDREADER():\n",
    "    return [(pet_id, user, city) for user, pet_id, city in joined_data]\n",
    "\n",
    "output = MapReduce(RECORDREADER, MAP_GROUP, REDUCE_GROUP)\n",
    "output = list(output)\n",
    "output"
   ],
   "outputs": [
    {
     "data": {
      "text/plain": [
       "['pet with id = 1 has 2 owner(s)',\n",
       " 'pet with id = 2 has 1 owner(s)',\n",
       " 'pet with id = 3 has 1 owner(s)',\n",
       " 'pet with id = 4 has 1 owner(s)']"
      ]
     },
     "execution_count": 68,
     "metadata": {},
     "output_type": "execute_result"
    }
   ],
   "execution_count": 68
  },
  {
   "cell_type": "markdown",
   "metadata": {
    "id": "03IffTEOJgOb"
   },
   "source": ""
  },
  {
   "cell_type": "markdown",
   "metadata": {
    "id": "IIrRgvG4RIS4"
   },
   "source": [
    "### Matrix-Vector multiplication\n",
    "\n",
    "Случай, когда вектор не помещается в памяти Map задачи\n"
   ]
  },
  {
   "cell_type": "code",
   "metadata": {
    "id": "KQhDbiL3zS9r",
    "ExecuteTime": {
     "end_time": "2025-02-27T10:39:16.604897Z",
     "start_time": "2025-02-27T10:39:16.578575Z"
    }
   },
   "source": [
    "from typing import Iterator, Tuple\n",
    "\n",
    "input_matrix = [\n",
    "    (1, 0, 2), (1, 3, 3), (0, 2, 3),\n",
    "    (1, 0, 0), (1, 1, 0), (1, 0, 1),\n",
    "    (2, 0, 8), (0, 1, 1), (5, 0, 3),\n",
    "]\n",
    "\n",
    "input_vector = [\n",
    "    (0, 1), (1, 2), (2, 3)\n",
    "]\n",
    "\n",
    "def flatten(nested_iterable):\n",
    "    for iterable in nested_iterable:\n",
    "        for element in iterable:\n",
    "            yield element\n",
    "\n",
    "def groupbykey(iterable):\n",
    "    grouped = {}\n",
    "    for key, value in iterable:\n",
    "        grouped[key] = grouped.get(key, []) + [value]\n",
    "    return grouped.items()\n",
    "\n",
    "def MapReduce(RECORDREADER, MAP, REDUCE):\n",
    "    return flatten(\n",
    "        map(\n",
    "            lambda x: REDUCE(*x),\n",
    "            groupbykey(flatten(map(lambda x: MAP(*x), RECORDREADER()))),\n",
    "        )\n",
    "    )\n",
    "\n",
    "def MAP_MATRIX_VECTOR(_, matrix_row):\n",
    "    row, col, value = matrix_row\n",
    "\n",
    "    for vec_col, vec_value in input_vector:\n",
    "        if vec_col == col:\n",
    "            yield (row, value * vec_value)\n",
    "\n",
    "def REDUCE_MATRIX_VECTOR(row, values: Iterator[int]):\n",
    "    yield (row, sum(values))\n",
    "\n",
    "def RECORDREADER():\n",
    "    return [(None, m) for m in input_matrix]\n",
    "\n",
    "output = MapReduce(RECORDREADER, MAP_MATRIX_VECTOR, REDUCE_MATRIX_VECTOR)\n",
    "output = list(output)\n",
    "output"
   ],
   "outputs": [
    {
     "data": {
      "text/plain": [
       "[(1, 3), (0, 11), (2, 8), (5, 3)]"
      ]
     },
     "execution_count": 72,
     "metadata": {},
     "output_type": "execute_result"
    }
   ],
   "execution_count": 72
  },
  {
   "cell_type": "markdown",
   "metadata": {
    "id": "GIo2t7nNxvA9"
   },
   "source": [
    "## Matrix multiplication (Перемножение матриц)\n",
    "\n",
    "Если у нас есть матрица $M$ с элементами $m_{ij}$ в строке $i$ и столбце $j$, и матрица $N$ с элементами $n_{jk}$ в строке $j$ и столбце $k$, тогда их произведение $P = MN$ есть матрица $P$ с элементами $p_{ik}$ в строке $i$ и столбце $k$, где\n",
    "\n",
    "$$p_{ik} =\\sum_{j} m_{ij}n_{jk}$$\n",
    "\n",
    "Необходимым требованием является одинаковое количество столбцов в $M$ и строк в $N$, чтобы операция суммирования по  $j$ была осмысленной. Мы можем размышлять о матрице, как об отношении с тремя атрибутами: номер строки, номер столбца, само значение. Таким образом матрица $M$ предстваляется как отношение $ M(I, J, V )$, с кортежами $(i, j, m_{ij})$, и, аналогично, матрица $N$ представляется как отношение $N(J, K, W)$, с кортежами $(j, k, n_{jk})$. Так как большие матрицы как правило разреженные (большинство значений равно 0), и так как мы можем нулевыми значениями пренебречь (не хранить), такое реляционное представление достаточно эффективно для больших матриц. Однако, возможно, что координаты $i$, $j$, и $k$ неявно закодированы в смещение позиции элемента относительно начала файла, вместо явного хранения. Тогда, функция Map (или Reader) должна быть разработана таким образом, чтобы реконструировать компоненты $I$, $J$, и $K$ кортежей из смещения.\n",
    "\n",
    "Произведение $MN$ это фактически join, за которым следуют группировка по ключу и аггрегация. Таким образом join отношений $M(I, J, V )$ и $N(J, K, W)$, имеющих общим только атрибут $J$, создаст кортежи $(i, j, k, v, w)$ из каждого кортежа $(i, j, v) \\in M$ и кортежа $(j, k, w) \\in N$. Такой 5 компонентный кортеж представляет пару элементов матрицы $(m_{ij} , n_{jk})$. Что нам хотелось бы получить на самом деле, это произведение этих элементов, то есть, 4 компонентный кортеж$(i, j, k, v \\times w)$, так как он представляет произведение $m_{ij}n_{jk}$. Мы представляем отношение как результат одной MapReduce операции, в которой мы можем произвести группировку и аггрегацию, с $I$ и $K$  атрибутами, по которым идёт группировка, и суммой  $V \\times W$. \n",
    "\n",
    "\n",
    "\n"
   ]
  },
  {
   "cell_type": "code",
   "metadata": {
    "id": "1MBkGaLAYVCt",
    "ExecuteTime": {
     "end_time": "2025-02-26T17:14:58.061421600Z",
     "start_time": "2025-02-23T18:48:53.168441Z"
    }
   },
   "source": [
    "# MapReduce model\n",
    "def flatten(nested_iterable):\n",
    "  for iterable in nested_iterable:\n",
    "    for element in iterable:\n",
    "      yield element\n",
    "\n",
    "def groupbykey(iterable):\n",
    "  t = {}\n",
    "  for (k2, v2) in iterable:\n",
    "    t[k2] = t.get(k2, []) + [v2]\n",
    "  return t.items()\n",
    "\n",
    "def MapReduce(RECORDREADER, MAP, REDUCE):\n",
    "  return flatten(map(lambda x: REDUCE(*x), groupbykey(flatten(map(lambda x: MAP(*x), RECORDREADER())))))"
   ],
   "outputs": [],
   "execution_count": 44
  },
  {
   "cell_type": "markdown",
   "metadata": {
    "id": "sMspsOT0ZB35"
   },
   "source": [
    "Реализуйте перемножение матриц с использованием модельного кода MapReduce для одной машины в случае, когда одна матрица хранится в памяти, а другая генерируется RECORDREADER-ом."
   ]
  },
  {
   "cell_type": "code",
   "metadata": {
    "id": "psP1XekbsEjS",
    "ExecuteTime": {
     "end_time": "2025-02-27T10:43:51.033090Z",
     "start_time": "2025-02-27T10:43:51.007557Z"
    }
   },
   "source": [
    "import numpy as np\n",
    "I = 2\n",
    "J = 3\n",
    "K = 4*10\n",
    "small_mat = np.random.rand(I,J) # it is legal to access this from RECORDREADER, MAP, REDUCE\n",
    "big_mat = np.random.rand(J,K)\n",
    "\n",
    "def RECORDREADER():\n",
    "  for j in range(big_mat.shape[0]):\n",
    "    for k in range(big_mat.shape[1]):\n",
    "      yield ((j,k), big_mat[j,k])\n",
    "      \n",
    "def MAP(k1, v1):\n",
    "  (j, k) = k1\n",
    "  w = v1\n",
    "  # solution code that yield(k2,v2) pairs\n",
    "  for i in range(I):\n",
    "        k2 = (i, k)\n",
    "        v2 = small_mat[i, j] * w\n",
    "        yield (k2, v2)\n",
    "  \n",
    "def REDUCE(key, values):\n",
    "    (i, k) = key\n",
    "    # solution code that yield(k3,v3) pairs\n",
    "    k3 = (i, k)\n",
    "    v3 = sum(values)\n",
    "    yield (k3, v3)"
   ],
   "outputs": [],
   "execution_count": 73
  },
  {
   "cell_type": "markdown",
   "metadata": {
    "id": "rnt306LHhHrm"
   },
   "source": [
    "Проверьте своё решение"
   ]
  },
  {
   "cell_type": "code",
   "metadata": {
    "id": "Ewy_ZNYqW5a2",
    "colab": {
     "base_uri": "https://localhost:8080/",
     "height": 34
    },
    "outputId": "9ce264f2-9412-44e2-9b0a-cc780573ab3a",
    "ExecuteTime": {
     "end_time": "2025-02-27T10:44:01.224001Z",
     "start_time": "2025-02-27T10:44:00.829252Z"
    }
   },
   "source": [
    "# CHECK THE SOLUTION\n",
    "reference_solution = np.matmul(small_mat, big_mat) \n",
    "solution = MapReduce(RECORDREADER, MAP, REDUCE)\n",
    "\n",
    "def asmatrix(reduce_output):\n",
    "  reduce_output = list(reduce_output)\n",
    "  I = max(i for ((i,k), vw) in reduce_output)+1\n",
    "  K = max(k for ((i,k), vw) in reduce_output)+1\n",
    "  mat = np.empty(shape=(I,K))\n",
    "  for ((i,k), vw) in reduce_output:\n",
    "    mat[i,k] = vw\n",
    "  return mat\n",
    "\n",
    "np.allclose(reference_solution, asmatrix(solution)) # should return true"
   ],
   "outputs": [
    {
     "data": {
      "text/plain": [
       "True"
      ]
     },
     "execution_count": 74,
     "metadata": {},
     "output_type": "execute_result"
    }
   ],
   "execution_count": 74
  },
  {
   "cell_type": "code",
   "metadata": {
    "id": "TK7v4CEcfxqf",
    "colab": {
     "base_uri": "https://localhost:8080/",
     "height": 34
    },
    "outputId": "2c865d0a-4065-4e6b-c83f-5508ed5eb4fa",
    "ExecuteTime": {
     "end_time": "2025-02-27T10:44:13.293291Z",
     "start_time": "2025-02-27T10:44:13.280289Z"
    }
   },
   "source": [
    "reduce_output = list(MapReduce(RECORDREADER, MAP, REDUCE))\n",
    "max(i for ((i,k), vw) in reduce_output)"
   ],
   "outputs": [
    {
     "data": {
      "text/plain": [
       "1"
      ]
     },
     "execution_count": 75,
     "metadata": {},
     "output_type": "execute_result"
    }
   ],
   "execution_count": 75
  },
  {
   "cell_type": "markdown",
   "metadata": {
    "id": "i4yyg3kOZqJJ"
   },
   "source": [
    "Реализуйте перемножение матриц  с использованием модельного кода MapReduce для одной машины в случае, когда обе матрицы генерируются в RECORDREADER. Например, сначала одна, а потом другая."
   ]
  },
  {
   "cell_type": "code",
   "metadata": {
    "id": "3B7rIAJCaHZq",
    "ExecuteTime": {
     "end_time": "2025-02-27T10:47:09.496929Z",
     "start_time": "2025-02-27T10:47:09.471566Z"
    }
   },
   "source": [
    "I = 2\n",
    "J = 3\n",
    "K = 4 * 10\n",
    "small_mat = np.random.rand(I, J)\n",
    "big_mat = np.random.rand(J, K)\n",
    "\n",
    "# генерируем пары элементов обеих матриц\n",
    "def RECORDREADER():\n",
    "    for i in range(I):\n",
    "        for j in range(J):\n",
    "            for k in range(K):\n",
    "                yield (((i, j), small_mat[i, j]), ((j, k), big_mat[j, k]))\n",
    "\n",
    "# перемножаем полученные элементы двух матриц\n",
    "def MAP(element1, element2):\n",
    "    (i, j), v1 = element1\n",
    "    (j, k), v2 = element2\n",
    "\n",
    "    yield ((i, k), v1 * v2)\n",
    "\n",
    "# суммируем полученные произведения для вычисления элементов результирующей матрицы\n",
    "def REDUCE(key, values):\n",
    "    (i, k) = key\n",
    "    # solution code that yield(k3,v3) pairs\n",
    "    k3 = (i, k)\n",
    "    v3 = sum(values)\n",
    "    yield (k3, v3)"
   ],
   "outputs": [],
   "execution_count": 76
  },
  {
   "metadata": {
    "ExecuteTime": {
     "end_time": "2025-02-27T10:47:11.581768Z",
     "start_time": "2025-02-27T10:47:11.565126Z"
    }
   },
   "cell_type": "code",
   "source": [
    "# CHECK THE SOLUTION\n",
    "reference_solution = np.matmul(small_mat, big_mat)\n",
    "solution = MapReduce(RECORDREADER, MAP, REDUCE)\n",
    "\n",
    "def asmatrix(reduce_output):\n",
    "    reduce_output = list(reduce_output)\n",
    "    I = max(i for ((i, k), vw) in reduce_output) + 1\n",
    "    K = max(k for ((i, k), vw) in reduce_output) + 1\n",
    "    mat = np.empty(shape=(I, K))\n",
    "    for (i, k), vw in reduce_output:\n",
    "        mat[i, k] = vw\n",
    "    return mat\n",
    "\n",
    "np.allclose(reference_solution, asmatrix(solution))  # should return true"
   ],
   "outputs": [
    {
     "data": {
      "text/plain": [
       "True"
      ]
     },
     "execution_count": 77,
     "metadata": {},
     "output_type": "execute_result"
    }
   ],
   "execution_count": 77
  },
  {
   "cell_type": "markdown",
   "metadata": {
    "id": "mXyzQi1DaIwo"
   },
   "source": [
    "Реализуйте перемножение матриц с использованием модельного кода MapReduce Distributed, когда каждая матрица генерируется в своём RECORDREADER. "
   ]
  },
  {
   "cell_type": "code",
   "metadata": {
    "id": "TDM_s78Rb5eR",
    "ExecuteTime": {
     "end_time": "2025-02-27T10:53:08.036696Z",
     "start_time": "2025-02-27T10:53:08.003270Z"
    }
   },
   "source": [
    "maps = 2\n",
    "reducers = 2\n",
    "\n",
    "def INPUTFORMAT():\n",
    "    global maps\n",
    "\n",
    "    def RECORDREADER(i_range):\n",
    "        for i in i_range:\n",
    "            for j in range(J):\n",
    "                for k in range(K):\n",
    "                    yield (((i, j), small_mat[i, j]), ((j, k), big_mat[j, k]))\n",
    "\n",
    "    # разделение между вычислительными узлами происходит по строкам первой матрицы\n",
    "    split_size = int(np.ceil(I / maps))\n",
    "    for i in range(0, I, split_size):\n",
    "        yield RECORDREADER(range(i, i + split_size))\n",
    "\n",
    "# возвращает произведения соответствующих элементов из обеих матриц, группируя их по индексу в результирующей матрице\n",
    "def MAP(element1, element2):\n",
    "    (i, j), v1 = element1\n",
    "    (j, k), v2 = element2\n",
    "\n",
    "    yield ((i, k), v1 * v2)\n",
    "\n",
    "\n",
    "def REDUCE(key, values):\n",
    "    (i, k) = key\n",
    "    k3 = (i, k)\n",
    "    v3 = sum(values)\n",
    "\n",
    "    yield (k3, v3)\n",
    "\n",
    "\n",
    "partitioned_output = MapReduceDistributed(INPUTFORMAT, MAP, REDUCE, COMBINER=None)\n",
    "partitioned_output = [\n",
    "    (partition_id, list(partition)) for (partition_id, partition) in partitioned_output\n",
    "]\n",
    "\n",
    "# соединение полученных произведений с разных вычислительных узлов\n",
    "solution = []\n",
    "for output_part in partitioned_output:\n",
    "    for element in output_part[1]:\n",
    "        solution += [element]\n",
    "\n",
    "print(asmatrix(solution))\n",
    "np.allclose(reference_solution, asmatrix(solution))  # should return true\n",
    "     "
   ],
   "outputs": [
    {
     "name": "stdout",
     "output_type": "stream",
     "text": [
      "240 key-value pairs were sent over a network.\n",
      "[[1.12638062 0.24445752 0.33709441 0.94447359 1.59676428 0.8213588\n",
      "  0.28935557 0.59977793 0.44372835 1.47941384 0.82762411 1.06390492\n",
      "  0.89538672 0.88430165 0.59294699 0.74438812 1.07168806 0.2063368\n",
      "  0.82563357 1.04646571 1.29522355 0.53718869 1.39374603 0.90297908\n",
      "  1.20868822 1.12425302 0.79732564 0.85547536 1.13127801 0.39929691\n",
      "  0.8405452  1.64749409 0.82068846 0.32397786 0.91875233 0.67992142\n",
      "  1.17358121 0.80419208 0.96094974 0.67724946]\n",
      " [0.77844518 0.32603931 0.20942421 0.85061329 1.10904399 0.72711133\n",
      "  0.28559226 0.28216163 0.27699053 1.22933185 0.69679122 0.78104192\n",
      "  0.85883242 0.40899651 0.52481964 0.66251888 0.98975095 0.22622474\n",
      "  0.8327872  0.68590205 0.75619241 0.69940707 1.0712296  1.02146553\n",
      "  0.95759508 0.83921092 0.64400338 0.58367892 1.06352605 0.31066545\n",
      "  0.8055355  1.29254453 0.35538505 0.48696547 0.55378534 0.35493132\n",
      "  0.73153724 0.97671251 0.46635047 0.26031161]]\n"
     ]
    },
    {
     "data": {
      "text/plain": [
       "True"
      ]
     },
     "execution_count": 78,
     "metadata": {},
     "output_type": "execute_result"
    }
   ],
   "execution_count": 78
  },
  {
   "cell_type": "markdown",
   "metadata": {
    "id": "ZuSA2P9Db6UM"
   },
   "source": [
    "Обобщите предыдущее решение на случай, когда каждая матрица генерируется несколькими RECORDREADER-ами, и проверьте его работоспособность. Будет ли работать решение, если RECORDREADER-ы будут генерировать случайное подмножество элементов матрицы?"
   ]
  },
  {
   "metadata": {},
   "cell_type": "markdown",
   "source": "Да, решение будет работать, потому что каждая пара значений, создаваемая RECORDREADER-ом, идентифицируется по ее индексам."
  }
 ]
}
